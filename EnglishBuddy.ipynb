{
  "cells": [
    {
      "cell_type": "code",
      "execution_count": 1,
      "id": "jUc7Ie34GrZLxVIz9YtvPBy2",
      "metadata": {
        "executionInfo": {
          "elapsed": 24040,
          "status": "ok",
          "timestamp": 1703138357473,
          "user": {
            "displayName": "",
            "userId": ""
          },
          "user_tz": -420
        },
        "id": "jUc7Ie34GrZLxVIz9YtvPBy2",
        "tags": []
      },
      "outputs": [
        {
          "name": "stderr",
          "output_type": "stream",
          "text": [
            "WARNING: You are using pip version 20.2.3; however, version 23.3.2 is available.\n",
            "You should consider upgrading via the 'c:\\users\\shefi\\appdata\\local\\programs\\python\\python39\\python.exe -m pip install --upgrade pip' command.\n"
          ]
        }
      ],
      "source": [
        "!pip install -q tensorflow transformers\n",
        "from transformers import BertTokenizer"
      ]
    },
    {
      "cell_type": "code",
      "execution_count": 2,
      "id": "Fu0QK5jB6qur",
      "metadata": {
        "executionInfo": {
          "elapsed": 16138,
          "status": "ok",
          "timestamp": 1703138381934,
          "user": {
            "displayName": "",
            "userId": ""
          },
          "user_tz": -420
        },
        "id": "Fu0QK5jB6qur"
      },
      "outputs": [],
      "source": [
        "import pickle\n",
        "import numpy as np\n",
        "import pandas as pd\n",
        "import seaborn as sns\n",
        "import tensorflow as tf\n",
        "import matplotlib.pyplot as plt\n",
        "from sklearn.model_selection import train_test_split\n",
        "from sklearn.metrics import mean_absolute_error\n",
        "from sklearn.preprocessing import StandardScaler\n",
        "from sklearn.model_selection import train_test_split\n",
        "from keras.metrics import MeanAbsoluteError, RootMeanSquaredError\n",
        "from transformers import TFBertModel, BertTokenizer"
      ]
    },
    {
      "cell_type": "code",
      "execution_count": 3,
      "id": "rUrfNBfe8O7F",
      "metadata": {
        "executionInfo": {
          "elapsed": 21,
          "status": "ok",
          "timestamp": 1703138387781,
          "user": {
            "displayName": "",
            "userId": ""
          },
          "user_tz": -420
        },
        "id": "rUrfNBfe8O7F"
      },
      "outputs": [],
      "source": [
        "df = pd.read_csv('updated_ielts_writing_dataset (1).csv')"
      ]
    },
    {
      "cell_type": "code",
      "execution_count": 4,
      "id": "ZSlTGNtQ8QOT",
      "metadata": {
        "colab": {
          "base_uri": "https://localhost:8080/",
          "height": 476
        },
        "executionInfo": {
          "elapsed": 12,
          "status": "ok",
          "timestamp": 1703138391033,
          "user": {
            "displayName": "",
            "userId": ""
          },
          "user_tz": -420
        },
        "id": "ZSlTGNtQ8QOT",
        "outputId": "7b1ab165-713d-4a47-d008-a97d05eda3ec"
      },
      "outputs": [
        {
          "name": "stdout",
          "output_type": "stream",
          "text": [
            "Shape: (1436, 9)\n"
          ]
        },
        {
          "data": {
            "text/html": [
              "<div>\n",
              "<style scoped>\n",
              "    .dataframe tbody tr th:only-of-type {\n",
              "        vertical-align: middle;\n",
              "    }\n",
              "\n",
              "    .dataframe tbody tr th {\n",
              "        vertical-align: top;\n",
              "    }\n",
              "\n",
              "    .dataframe thead th {\n",
              "        text-align: right;\n",
              "    }\n",
              "</style>\n",
              "<table border=\"1\" class=\"dataframe\">\n",
              "  <thead>\n",
              "    <tr style=\"text-align: right;\">\n",
              "      <th></th>\n",
              "      <th>Task_Type</th>\n",
              "      <th>Question</th>\n",
              "      <th>Essay</th>\n",
              "      <th>Examiner_Commen</th>\n",
              "      <th>Task_Response</th>\n",
              "      <th>Coherence_Cohesion</th>\n",
              "      <th>Lexical_Resource</th>\n",
              "      <th>Range_Accuracy</th>\n",
              "      <th>Overall</th>\n",
              "    </tr>\n",
              "  </thead>\n",
              "  <tbody>\n",
              "    <tr>\n",
              "      <th>0</th>\n",
              "      <td>1</td>\n",
              "      <td>The bar chart below describes some changes abo...</td>\n",
              "      <td>Between 1995 and 2010, a study was conducted r...</td>\n",
              "      <td>NaN</td>\n",
              "      <td>5.120347</td>\n",
              "      <td>4.103296</td>\n",
              "      <td>4.503800</td>\n",
              "      <td>5.444121</td>\n",
              "      <td>5.5</td>\n",
              "    </tr>\n",
              "    <tr>\n",
              "      <th>1</th>\n",
              "      <td>2</td>\n",
              "      <td>Rich countries often give money to poorer coun...</td>\n",
              "      <td>Poverty represents a worldwide crisis. It is t...</td>\n",
              "      <td>NaN</td>\n",
              "      <td>5.379121</td>\n",
              "      <td>4.036842</td>\n",
              "      <td>4.471886</td>\n",
              "      <td>4.373617</td>\n",
              "      <td>6.5</td>\n",
              "    </tr>\n",
              "    <tr>\n",
              "      <th>2</th>\n",
              "      <td>1</td>\n",
              "      <td>The bar chart below describes some changes abo...</td>\n",
              "      <td>The left chart shows the population change hap...</td>\n",
              "      <td>NaN</td>\n",
              "      <td>4.914584</td>\n",
              "      <td>4.583511</td>\n",
              "      <td>5.913424</td>\n",
              "      <td>5.082284</td>\n",
              "      <td>5.0</td>\n",
              "    </tr>\n",
              "  </tbody>\n",
              "</table>\n",
              "</div>"
            ],
            "text/plain": [
              "   Task_Type                                           Question  \\\n",
              "0          1  The bar chart below describes some changes abo...   \n",
              "1          2  Rich countries often give money to poorer coun...   \n",
              "2          1  The bar chart below describes some changes abo...   \n",
              "\n",
              "                                               Essay Examiner_Commen  \\\n",
              "0  Between 1995 and 2010, a study was conducted r...             NaN   \n",
              "1  Poverty represents a worldwide crisis. It is t...             NaN   \n",
              "2  The left chart shows the population change hap...             NaN   \n",
              "\n",
              "   Task_Response  Coherence_Cohesion  Lexical_Resource  Range_Accuracy  \\\n",
              "0       5.120347            4.103296          4.503800        5.444121   \n",
              "1       5.379121            4.036842          4.471886        4.373617   \n",
              "2       4.914584            4.583511          5.913424        5.082284   \n",
              "\n",
              "   Overall  \n",
              "0      5.5  \n",
              "1      6.5  \n",
              "2      5.0  "
            ]
          },
          "execution_count": 4,
          "metadata": {},
          "output_type": "execute_result"
        }
      ],
      "source": [
        "print(\"Shape:\", df.shape)\n",
        "df.head(3)"
      ]
    },
    {
      "cell_type": "code",
      "execution_count": 5,
      "id": "TZLpdnQW8SJS",
      "metadata": {
        "colab": {
          "base_uri": "https://localhost:8080/",
          "height": 320
        },
        "executionInfo": {
          "elapsed": 6,
          "status": "ok",
          "timestamp": 1703138395330,
          "user": {
            "displayName": "",
            "userId": ""
          },
          "user_tz": -420
        },
        "id": "TZLpdnQW8SJS",
        "outputId": "d53f5630-f608-4cb0-d197-dd85552f725d"
      },
      "outputs": [
        {
          "data": {
            "text/html": [
              "<div>\n",
              "<style scoped>\n",
              "    .dataframe tbody tr th:only-of-type {\n",
              "        vertical-align: middle;\n",
              "    }\n",
              "\n",
              "    .dataframe tbody tr th {\n",
              "        vertical-align: top;\n",
              "    }\n",
              "\n",
              "    .dataframe thead th {\n",
              "        text-align: right;\n",
              "    }\n",
              "</style>\n",
              "<table border=\"1\" class=\"dataframe\">\n",
              "  <thead>\n",
              "    <tr style=\"text-align: right;\">\n",
              "      <th></th>\n",
              "      <th>Task_Type</th>\n",
              "      <th>Task_Response</th>\n",
              "      <th>Coherence_Cohesion</th>\n",
              "      <th>Lexical_Resource</th>\n",
              "      <th>Range_Accuracy</th>\n",
              "      <th>Overall</th>\n",
              "    </tr>\n",
              "  </thead>\n",
              "  <tbody>\n",
              "    <tr>\n",
              "      <th>count</th>\n",
              "      <td>1436.000000</td>\n",
              "      <td>1436.000000</td>\n",
              "      <td>1436.000000</td>\n",
              "      <td>1436.000000</td>\n",
              "      <td>1436.000000</td>\n",
              "      <td>1436.000000</td>\n",
              "    </tr>\n",
              "    <tr>\n",
              "      <th>mean</th>\n",
              "      <td>1.552228</td>\n",
              "      <td>5.000362</td>\n",
              "      <td>5.021103</td>\n",
              "      <td>4.981544</td>\n",
              "      <td>4.985767</td>\n",
              "      <td>6.550836</td>\n",
              "    </tr>\n",
              "    <tr>\n",
              "      <th>std</th>\n",
              "      <td>0.497438</td>\n",
              "      <td>0.576305</td>\n",
              "      <td>0.571499</td>\n",
              "      <td>0.569995</td>\n",
              "      <td>0.571829</td>\n",
              "      <td>1.058165</td>\n",
              "    </tr>\n",
              "    <tr>\n",
              "      <th>min</th>\n",
              "      <td>1.000000</td>\n",
              "      <td>4.002003</td>\n",
              "      <td>4.003000</td>\n",
              "      <td>4.001776</td>\n",
              "      <td>4.000141</td>\n",
              "      <td>1.000000</td>\n",
              "    </tr>\n",
              "    <tr>\n",
              "      <th>25%</th>\n",
              "      <td>1.000000</td>\n",
              "      <td>4.500727</td>\n",
              "      <td>4.549623</td>\n",
              "      <td>4.500218</td>\n",
              "      <td>4.490850</td>\n",
              "      <td>6.000000</td>\n",
              "    </tr>\n",
              "    <tr>\n",
              "      <th>50%</th>\n",
              "      <td>2.000000</td>\n",
              "      <td>5.029919</td>\n",
              "      <td>5.027318</td>\n",
              "      <td>4.956419</td>\n",
              "      <td>5.013560</td>\n",
              "      <td>6.500000</td>\n",
              "    </tr>\n",
              "    <tr>\n",
              "      <th>75%</th>\n",
              "      <td>2.000000</td>\n",
              "      <td>5.488548</td>\n",
              "      <td>5.518333</td>\n",
              "      <td>5.455477</td>\n",
              "      <td>5.453455</td>\n",
              "      <td>7.000000</td>\n",
              "    </tr>\n",
              "    <tr>\n",
              "      <th>max</th>\n",
              "      <td>2.000000</td>\n",
              "      <td>5.997756</td>\n",
              "      <td>5.997154</td>\n",
              "      <td>5.999738</td>\n",
              "      <td>5.998640</td>\n",
              "      <td>9.000000</td>\n",
              "    </tr>\n",
              "  </tbody>\n",
              "</table>\n",
              "</div>"
            ],
            "text/plain": [
              "         Task_Type  Task_Response  Coherence_Cohesion  Lexical_Resource  \\\n",
              "count  1436.000000    1436.000000         1436.000000       1436.000000   \n",
              "mean      1.552228       5.000362            5.021103          4.981544   \n",
              "std       0.497438       0.576305            0.571499          0.569995   \n",
              "min       1.000000       4.002003            4.003000          4.001776   \n",
              "25%       1.000000       4.500727            4.549623          4.500218   \n",
              "50%       2.000000       5.029919            5.027318          4.956419   \n",
              "75%       2.000000       5.488548            5.518333          5.455477   \n",
              "max       2.000000       5.997756            5.997154          5.999738   \n",
              "\n",
              "       Range_Accuracy      Overall  \n",
              "count     1436.000000  1436.000000  \n",
              "mean         4.985767     6.550836  \n",
              "std          0.571829     1.058165  \n",
              "min          4.000141     1.000000  \n",
              "25%          4.490850     6.000000  \n",
              "50%          5.013560     6.500000  \n",
              "75%          5.453455     7.000000  \n",
              "max          5.998640     9.000000  "
            ]
          },
          "execution_count": 5,
          "metadata": {},
          "output_type": "execute_result"
        }
      ],
      "source": [
        "df.describe()"
      ]
    },
    {
      "cell_type": "code",
      "execution_count": 6,
      "id": "8oxCXOUE8Tc5",
      "metadata": {
        "executionInfo": {
          "elapsed": 23,
          "status": "ok",
          "timestamp": 1703138402205,
          "user": {
            "displayName": "",
            "userId": ""
          },
          "user_tz": -420
        },
        "id": "8oxCXOUE8Tc5"
      },
      "outputs": [],
      "source": [
        "df = df.rename(columns={'Examiner_Commen': 'Comment'})"
      ]
    },
    {
      "cell_type": "code",
      "execution_count": 7,
      "id": "T15SXmjr8Ur1",
      "metadata": {
        "colab": {
          "base_uri": "https://localhost:8080/",
          "height": 333
        },
        "executionInfo": {
          "elapsed": 8,
          "status": "ok",
          "timestamp": 1703138406460,
          "user": {
            "displayName": "",
            "userId": ""
          },
          "user_tz": -420
        },
        "id": "T15SXmjr8Ur1",
        "outputId": "9f2ab772-ebb2-47a0-f021-d6ddda59df9c"
      },
      "outputs": [
        {
          "data": {
            "image/png": "[encoded data removed]",
            "text/plain": [
              "<Figure size 500x300 with 1 Axes>"
            ]
          },
          "metadata": {},
          "output_type": "display_data"
        }
      ],
      "source": [
        "# Assuming 'column_name' is the name of the column you want to plot\n",
        "plt.figure(figsize=(5, 3))\n",
        "sns.countplot(data=df, x='Overall')\n",
        "plt.title(f'Overall grade distribution')\n",
        "plt.xlabel('Grade')\n",
        "plt.ylabel('Amount')\n",
        "plt.show()"
      ]
    },
    {
      "cell_type": "code",
      "execution_count": 8,
      "id": "HPf9nLCN8V6Q",
      "metadata": {
        "executionInfo": {
          "elapsed": 2,
          "status": "ok",
          "timestamp": 1703138410791,
          "user": {
            "displayName": "",
            "userId": ""
          },
          "user_tz": -420
        },
        "id": "HPf9nLCN8V6Q"
      },
      "outputs": [],
      "source": [
        "df = df[df['Overall'].map(df['Overall'].value_counts()) > 1]"
      ]
    },
    {
      "cell_type": "code",
      "execution_count": 9,
      "id": "RMlzL4dK8W9s",
      "metadata": {
        "colab": {
          "base_uri": "https://localhost:8080/"
        },
        "executionInfo": {
          "elapsed": 21,
          "status": "ok",
          "timestamp": 1703138417765,
          "user": {
            "displayName": "",
            "userId": ""
          },
          "user_tz": -420
        },
        "id": "RMlzL4dK8W9s",
        "outputId": "247061a9-2a63-426c-b200-197cc1768fb0"
      },
      "outputs": [
        {
          "data": {
            "text/plain": [
              "Overall\n",
              "5.0     8\n",
              "6.0    24\n",
              "7.0    17\n",
              "8.0    13\n",
              "Name: Comment, dtype: int64"
            ]
          },
          "execution_count": 9,
          "metadata": {},
          "output_type": "execute_result"
        }
      ],
      "source": [
        "# Group by \"Overall\" and count non-None values in \"Comment\"\n",
        "df[df['Comment'].notna()].groupby(\"Overall\")[\"Comment\"].count()"
      ]
    },
    {
      "cell_type": "code",
      "execution_count": 10,
      "id": "L_TONxAb8YM-",
      "metadata": {
        "colab": {
          "base_uri": "https://localhost:8080/"
        },
        "executionInfo": {
          "elapsed": 22,
          "status": "ok",
          "timestamp": 1703138423844,
          "user": {
            "displayName": "",
            "userId": ""
          },
          "user_tz": -420
        },
        "id": "L_TONxAb8YM-",
        "outputId": "3e25d120-c4b8-4089-88d0-226f5e5bba28"
      },
      "outputs": [
        {
          "data": {
            "text/plain": [
              "0"
            ]
          },
          "execution_count": 10,
          "metadata": {},
          "output_type": "execute_result"
        }
      ],
      "source": [
        "df['Question'].isna().sum()"
      ]
    },
    {
      "cell_type": "code",
      "execution_count": 11,
      "id": "v-v241PO8Zs1",
      "metadata": {
        "colab": {
          "base_uri": "https://localhost:8080/",
          "height": 452
        },
        "executionInfo": {
          "elapsed": 2653,
          "status": "ok",
          "timestamp": 1703138430972,
          "user": {
            "displayName": "",
            "userId": ""
          },
          "user_tz": -420
        },
        "id": "v-v241PO8Zs1",
        "outputId": "28a1186a-2e38-436b-e063-4a441855dc3c"
      },
      "outputs": [
        {
          "data": {
            "image/png": "[encoded data removed]",
            "text/plain": [
              "<Figure size 640x480 with 1 Axes>"
            ]
          },
          "metadata": {},
          "output_type": "display_data"
        }
      ],
      "source": [
        "df[\"Length\"]=df[\"Essay\"].apply(lambda x: len(x.split(\" \")))\n",
        "plt.hist(df[\"Length\"])\n",
        "plt.title(\"Distribution of Lenght of Essay\")\n",
        "plt.show()"
      ]
    },
    {
      "cell_type": "code",
      "execution_count": 12,
      "id": "NPLs4fbE8bSL",
      "metadata": {
        "colab": {
          "base_uri": "https://localhost:8080/",
          "height": 472
        },
        "executionInfo": {
          "elapsed": 6,
          "status": "ok",
          "timestamp": 1703138445832,
          "user": {
            "displayName": "",
            "userId": ""
          },
          "user_tz": -420
        },
        "id": "NPLs4fbE8bSL",
        "outputId": "0b86ea00-710e-42c8-bb61-96e524a147e7"
      },
      "outputs": [
        {
          "data": {
            "image/png": "[encoded data removed]",
            "text/plain": [
              "<Figure size 640x480 with 1 Axes>"
            ]
          },
          "metadata": {},
          "output_type": "display_data"
        }
      ],
      "source": [
        "# Group by \"Overall\" and calculate the mean of \"Length\"\n",
        "result = df.groupby([\"Overall\"]).agg({\"Length\":\"mean\"})\n",
        "\n",
        "# Reset the index to make \"Overall\" a regular column\n",
        "result.reset_index(inplace=True)\n",
        "\n",
        "# Create a line plot\n",
        "plt.plot(result[\"Overall\"], result[\"Length\"], marker='o', linestyle='-')\n",
        "plt.xlabel(\"Overall\")\n",
        "plt.ylabel(\"Mean Length\")\n",
        "plt.title(\"Mean Length by Overall\")\n",
        "plt.grid(True)\n",
        "plt.show()"
      ]
    },
    {
      "cell_type": "code",
      "execution_count": 13,
      "id": "OLlxL68X8duT",
      "metadata": {
        "executionInfo": {
          "elapsed": 4,
          "status": "ok",
          "timestamp": 1703138454514,
          "user": {
            "displayName": "",
            "userId": ""
          },
          "user_tz": -420
        },
        "id": "OLlxL68X8duT"
      },
      "outputs": [],
      "source": [
        "# Transform the 'Category' column to 0s and 1s\n",
        "df['Task_Type'] = (df['Task_Type'] == 2).astype(int)\n",
        "\n",
        "# Perform one-hot encoding\n",
        "df = pd.get_dummies(df, columns=['Task_Type'], prefix=['Task_Type'])"
      ]
    },
    {
      "cell_type": "code",
      "execution_count": 14,
      "id": "XmYVJjFM8fWB",
      "metadata": {
        "executionInfo": {
          "elapsed": 23,
          "status": "ok",
          "timestamp": 1703138461288,
          "user": {
            "displayName": "",
            "userId": ""
          },
          "user_tz": -420
        },
        "id": "XmYVJjFM8fWB"
      },
      "outputs": [],
      "source": [
        "# All changeable variables are stored in a config dictionary for easier access\n",
        "config ={\n",
        "    \"max_seq_length\": 512,\n",
        "    \"bert_model_name\": \"bert-base-uncased\",\n",
        "    \"learning_rate\": 0.001,\n",
        "    \"batch_size\": 32,\n",
        "    \"epochs\": 50,\n",
        "    \"loss\": 'mean_squared_error',\n",
        "    \"metrics\": [MeanAbsoluteError(), RootMeanSquaredError()],\n",
        "}"
      ]
    },
    {
      "cell_type": "code",
      "execution_count": 15,
      "id": "PeAuSzA78gyt",
      "metadata": {
        "colab": {
          "base_uri": "https://localhost:8080/",
          "height": 370,
          "referenced_widgets": [
            "80f505ed1d15480fa8e3c7dbff7a45ee",
            "c712d0861672446283740eed58bd4ee1",
            "789cfd87b0c149108b51d4b9a4e2240e",
            "b0a3e4bc778043e0b807aa49c5e0eb3e",
            "49449d21c6224f9c881da566e6448939",
            "f29df09e91264a19a6d8262641b15732",
            "e6318095936240a7bf11490d86b8bfd6",
            "84adc81cae024d00a304b9d56ed355c7",
            "2cd9f5574c18462887000f8567c4d05f",
            "e474f7a0267048239c270c5db80f5466",
            "bbb4c9d2d4e14b35ac874514857d5aa5",
            "65cf32749617440db3c6e7f909b5bb83",
            "fa22630ab2fe4c57adee342695cbb1ac",
            "16a6c9268461483fac89663c95128dfa",
            "c23f2cc43e7141868405eed99f237c76",
            "44e416c828f54afcaac9b02b1972735f",
            "7fe3c42292024e4b9cf1e2ba0c76af4e",
            "abb7b959cebb435c9f13d16354ebb9e2",
            "92faa03797db493db61a4cf584c791f6",
            "0702d8c9c6374e6792a39858309ddafe",
            "bb95f52184cd4e9584aeda182677cca5",
            "89f4c5363d3f4ffdaa26a76e232e1956",
            "a43bf25ac8964ab09b9339343446b97b",
            "ee2ed36312924c32a55bf33fce473fa0",
            "94c2424bb78243419e1b8f7dffa051ca",
            "82164f939d304ea7b83ed54dad08ea14",
            "692955062fd9472dadb8b17c97452e70",
            "c61e52e88fbb4b178544e5312b0cc1e7",
            "220d2de2d2f14c4dba2ee91894dcca01",
            "7233c70d0ee440d9a429e0668342a588",
            "3692b14cb6fb4b1780fdca01bd9f5b66",
            "d8e549ea5cf048b0904275a65e144bb5",
            "6ccb966d67bd4a5db444040c8959d267",
            "9463d12545bb401ebdd2d0d88bf75ba2",
            "16c3cdd661384ddca3bbfceae09aa576",
            "389c6cb5dfe3422dbbf370b8811020c8",
            "2a77f3c7dd8c4dce96f73ffb7e53f0a3",
            "1a2f689ab3a5401793269a6c7f97d00a",
            "4cbc3b31a485412ca8c3734c03b562b3",
            "b3ea67161c3c436bb707ea1cae7fae78",
            "88fd7d785b4c49ac9653d5eede36d7aa",
            "867c969ae46f4dd483c15f38c044b71e",
            "8b40ded7a6244fe2a36d61c41a986b53",
            "0b74fa599d3c4236a2216925ddb642c4",
            "b1abecfbc9624de7ba4cfd25fd552a85",
            "2c7f2c5975ba4740b572b3207919d2a0",
            "b154256f710d4b43b161003f0e777b61",
            "43f8a09b8474456686182854e1c83718",
            "794e87c4a3cd4fd8a53bb044513f8b31",
            "6e99c804faf64bdab3f6ec80649a084f",
            "4ea213f71d7f4dd2a66df8bd044f89fb",
            "0d31abcc309343fba44a03ddf4301218",
            "19606603a39c447bbf3669a0f7d54a5c",
            "3bcbd25250754d1cbbbe52f300c2ff5f",
            "954b90ec81634050864b67bc52ac525e"
          ]
        },
        "executionInfo": {
          "elapsed": 11895,
          "status": "ok",
          "timestamp": 1703138478594,
          "user": {
            "displayName": "",
            "userId": ""
          },
          "user_tz": -420
        },
        "id": "PeAuSzA78gyt",
        "outputId": "18afe616-1592-462c-a725-9db565012add"
      },
      "outputs": [
        {
          "name": "stderr",
          "output_type": "stream",
          "text": [
            "Some weights of the PyTorch model were not used when initializing the TF 2.0 model TFBertModel: ['cls.predictions.transform.dense.weight', 'cls.predictions.transform.LayerNorm.bias', 'cls.seq_relationship.bias', 'cls.predictions.transform.LayerNorm.weight', 'cls.seq_relationship.weight', 'cls.predictions.bias', 'cls.predictions.transform.dense.bias']\n",
            "- This IS expected if you are initializing TFBertModel from a PyTorch model trained on another task or with another architecture (e.g. initializing a TFBertForSequenceClassification model from a BertForPreTraining model).\n",
            "- This IS NOT expected if you are initializing TFBertModel from a PyTorch model that you expect to be exactly identical (e.g. initializing a TFBertForSequenceClassification model from a BertForSequenceClassification model).\n",
            "All the weights of TFBertModel were initialized from the PyTorch model.\n",
            "If your task is similar to the task the model of the checkpoint was trained on, you can already use TFBertModel for predictions without further training.\n"
          ]
        }
      ],
      "source": [
        "# Load pre-trained BERT model and tokenizer\n",
        "bert_tokenizer = BertTokenizer.from_pretrained(config['bert_model_name'])\n",
        "bert_model = TFBertModel.from_pretrained(config['bert_model_name'])"
      ]
    },
    {
      "cell_type": "code",
      "execution_count": 16,
      "id": "zlgkmyQ-8iAa",
      "metadata": {
        "executionInfo": {
          "elapsed": 3,
          "status": "ok",
          "timestamp": 1703138485430,
          "user": {
            "displayName": "",
            "userId": ""
          },
          "user_tz": -420
        },
        "id": "zlgkmyQ-8iAa"
      },
      "outputs": [],
      "source": [
        "# Extract chosen data\n",
        "X = df[['Essay',\n",
        "        'Length',\n",
        "        'Task_Type_0',\n",
        "        'Task_Type_1']]\n",
        "\n",
        "y = df['Overall']\n",
        "\n",
        "# Define the indexes for different feature types\n",
        "text_colums_indexes = 0\n",
        "numerical_columns_indexes = [1]\n",
        "binary_columns_indexes = [2, 3]"
      ]
    },
    {
      "cell_type": "code",
      "execution_count": 17,
      "id": "2I1B0b3W8j1B",
      "metadata": {
        "executionInfo": {
          "elapsed": 9,
          "status": "ok",
          "timestamp": 1703138494057,
          "user": {
            "displayName": "",
            "userId": ""
          },
          "user_tz": -420
        },
        "id": "2I1B0b3W8j1B"
      },
      "outputs": [],
      "source": [
        "# Separate train and validation sets\n",
        "X_train, X_val, y_train, y_val = train_test_split(X.values, y,\n",
        "    test_size=0.1,\n",
        "    shuffle=True,\n",
        "    stratify=y,\n",
        "    random_state=42\n",
        ")"
      ]
    },
    {
      "cell_type": "code",
      "execution_count": 18,
      "id": "TVEivMm68k3y",
      "metadata": {
        "executionInfo": {
          "elapsed": 9,
          "status": "ok",
          "timestamp": 1703138499238,
          "user": {
            "displayName": "",
            "userId": ""
          },
          "user_tz": -420
        },
        "id": "TVEivMm68k3y"
      },
      "outputs": [],
      "source": [
        "# Extract features\n",
        "text_features_train = X_train[:, text_colums_indexes]\n",
        "text_features_val = X_val[:, text_colums_indexes]\n",
        "\n",
        "numerical_features_train = X_train[:, numerical_columns_indexes]\n",
        "numerical_features_val = X_val[:, numerical_columns_indexes]\n",
        "\n",
        "binary_features_train = X_train[:, binary_columns_indexes]\n",
        "binary_features_val = X_val[:, binary_columns_indexes]"
      ]
    },
    {
      "cell_type": "code",
      "execution_count": 19,
      "id": "sZN0IhHc8mcK",
      "metadata": {
        "executionInfo": {
          "elapsed": 9871,
          "status": "ok",
          "timestamp": 1703138515791,
          "user": {
            "displayName": "",
            "userId": ""
          },
          "user_tz": -420
        },
        "id": "sZN0IhHc8mcK"
      },
      "outputs": [],
      "source": [
        "# Tokenize the text features with padding and truncation\n",
        "input_ids_train = bert_tokenizer(list(text_features_train), padding=True, truncation=True, return_tensors='tf', max_length=config['max_seq_length'])['input_ids']\n",
        "input_ids_val = bert_tokenizer(list(text_features_val), padding=True, truncation=True, return_tensors='tf', max_length=config['max_seq_length'])['input_ids']"
      ]
    },
    {
      "cell_type": "code",
      "execution_count": 20,
      "id": "F3Xvq2Yk-BXu",
      "metadata": {
        "executionInfo": {
          "elapsed": 1,
          "status": "ok",
          "timestamp": 1703142038300,
          "user": {
            "displayName": "",
            "userId": ""
          },
          "user_tz": -420
        },
        "id": "F3Xvq2Yk-BXu"
      },
      "outputs": [],
      "source": [
        "# Standartize the numerical data\n",
        "scaler = StandardScaler(with_mean=False)\n",
        "numerical_features_train_std = scaler.fit_transform(numerical_features_train)\n",
        "numerical_features_val_std = scaler.transform(numerical_features_val)\n",
        "\n",
        "# Save the scaler to a file\n",
        "with open('scaler_config.pkl', 'wb') as file:\n",
        "    pickle.dump(scaler, file)"
      ]
    },
    {
      "cell_type": "code",
      "execution_count": 21,
      "id": "Ah9k2nNd8orO",
      "metadata": {
        "executionInfo": {
          "elapsed": 3,
          "status": "ok",
          "timestamp": 1703138571256,
          "user": {
            "displayName": "",
            "userId": ""
          },
          "user_tz": -420
        },
        "id": "Ah9k2nNd8orO"
      },
      "outputs": [],
      "source": [
        "# Gather all the features to one dictionary\n",
        "X_train_dict = {\n",
        "    \"input_ids\": input_ids_train,\n",
        "    \"numerical_features\": numerical_features_train_std.astype(np.float32),\n",
        "    \"binary_features\": binary_features_train.astype(np.float32)\n",
        "}\n",
        "\n",
        "X_val_dict = {\n",
        "    \"input_ids\": input_ids_val,\n",
        "    \"numerical_features\": numerical_features_val_std.astype(np.float32),\n",
        "    \"binary_features\": binary_features_val.astype(np.float32)\n",
        "}"
      ]
    },
    {
      "cell_type": "code",
      "execution_count": 22,
      "id": "vEtFlpTK8p7Y",
      "metadata": {
        "colab": {
          "base_uri": "https://localhost:8080/"
        },
        "executionInfo": {
          "elapsed": 5291,
          "status": "ok",
          "timestamp": 1703138584118,
          "user": {
            "displayName": "",
            "userId": ""
          },
          "user_tz": -420
        },
        "id": "vEtFlpTK8p7Y",
        "outputId": "83d79761-c572-4581-c5e4-f275c368738f"
      },
      "outputs": [
        {
          "name": "stdout",
          "output_type": "stream",
          "text": [
            "Model: \"model\"\n",
            "_________________________________________________________________\n",
            " Layer (type)                Output Shape              Param #   \n",
            "=================================================================\n",
            " input_1 (InputLayer)        [(None, 512)]             0         \n",
            "                                                                 \n",
            " tf_bert_model (TFBertModel  TFBaseModelOutputWithPo   109482240 \n",
            " )                           olingAndCrossAttentions             \n",
            "                             (last_hidden_state=(Non             \n",
            "                             e, 512, 768),                       \n",
            "                              pooler_output=(None, 7             \n",
            "                             68),                                \n",
            "                              past_key_values=None,              \n",
            "                             hidden_states=None, att             \n",
            "                             entions=None, cross_att             \n",
            "                             entions=None)                       \n",
            "                                                                 \n",
            " tf.__operators__.getitem (  (None, 768)               0         \n",
            " SlicingOpLambda)                                                \n",
            "                                                                 \n",
            " sequential (Sequential)     (None, 1)                 106753    \n",
            "                                                                 \n",
            "=================================================================\n",
            "Total params: 109588993 (418.05 MB)\n",
            "Trainable params: 106753 (417.00 KB)\n",
            "Non-trainable params: 109482240 (417.64 MB)\n",
            "_________________________________________________________________\n"
          ]
        }
      ],
      "source": [
        "# Create a custom regression head\n",
        "regression_head = tf.keras.models.Sequential([\n",
        "    tf.keras.layers.Flatten(),\n",
        "    tf.keras.layers.Dense(128, activation='relu'),\n",
        "    tf.keras.layers.Dropout(0.3),\n",
        "    tf.keras.layers.Dense(64, activation='relu'),\n",
        "    tf.keras.layers.Dropout(0.3),\n",
        "    tf.keras.layers.Dense(1, activation='linear')\n",
        "])\n",
        "\n",
        "# Combine BERT and Regression Head\n",
        "input_ids = tf.keras.layers.Input(shape=(config['max_seq_length'],), dtype=tf.int32)\n",
        "bert_output = bert_model(input_ids)[0]  # BERT's output\n",
        "pooler_output = bert_output[:, 0, :]     # Pooler output\n",
        "regression_output = regression_head(pooler_output)  # Custom regression head\n",
        "\n",
        "bert_text_model = tf.keras.models.Model(inputs=input_ids, outputs=regression_output)\n",
        "\n",
        "# Set BERT layers as non-trainable\n",
        "for layer in bert_model.layers:\n",
        "    layer.trainable = False\n",
        "\n",
        "# Compile the model, specifying the loss and metrics\n",
        "bert_text_model.compile(optimizer=tf.keras.optimizers.Adam(config['learning_rate']),\n",
        "    loss=config['loss'],\n",
        "    metrics=config['metrics'])\n",
        "\n",
        "# Print model summary\n",
        "bert_text_model.summary()"
      ]
    },
    {
      "cell_type": "code",
      "execution_count": 23,
      "id": "7ctHG2cK8rW6",
      "metadata": {
        "colab": {
          "base_uri": "https://localhost:8080/",
          "height": 369
        },
        "executionInfo": {
          "elapsed": 3,
          "status": "ok",
          "timestamp": 1703138592969,
          "user": {
            "displayName": "",
            "userId": ""
          },
          "user_tz": -420
        },
        "id": "7ctHG2cK8rW6",
        "outputId": "99c89e70-e022-4147-9bfb-89b00c4428d7"
      },
      "outputs": [
        {
          "name": "stdout",
          "output_type": "stream",
          "text": [
            "You must install pydot (`pip install pydot`) and install graphviz (see instructions at https://graphviz.gitlab.io/download/) for plot_model to work.\n"
          ]
        }
      ],
      "source": [
        "tf.keras.utils.plot_model(bert_text_model)"
      ]
    },
    {
      "cell_type": "code",
      "execution_count": 24,
      "id": "o2VU1GWx8rtB",
      "metadata": {
        "colab": {
          "base_uri": "https://localhost:8080/"
        },
        "executionInfo": {
          "elapsed": 2624,
          "status": "ok",
          "timestamp": 1703138601507,
          "user": {
            "displayName": "",
            "userId": ""
          },
          "user_tz": -420
        },
        "id": "o2VU1GWx8rtB",
        "outputId": "81aaa23b-eae9-40ef-8d0d-f7eb9f5df66e"
      },
      "outputs": [
        {
          "name": "stdout",
          "output_type": "stream",
          "text": [
            "Model: \"model_1\"\n",
            "__________________________________________________________________________________________________\n",
            " Layer (type)                Output Shape                 Param #   Connected to                  \n",
            "==================================================================================================\n",
            " input_ids (InputLayer)      [(None, 512)]                0         []                            \n",
            "                                                                                                  \n",
            " tf_bert_model (TFBertModel  TFBaseModelOutputWithPooli   1094822   ['input_ids[0][0]']           \n",
            " )                           ngAndCrossAttentions(last_   40                                      \n",
            "                             hidden_state=(None, 512, 7                                           \n",
            "                             68),                                                                 \n",
            "                              pooler_output=(None, 768)                                           \n",
            "                             , past_key_values=None, hi                                           \n",
            "                             dden_states=None, attentio                                           \n",
            "                             ns=None, cross_attentions=                                           \n",
            "                             None)                                                                \n",
            "                                                                                                  \n",
            " tf.__operators__.getitem_1  (None, 768)                  0         ['tf_bert_model[1][0]']       \n",
            "  (SlicingOpLambda)                                                                               \n",
            "                                                                                                  \n",
            " numerical_features (InputL  [(None, 1)]                  0         []                            \n",
            " ayer)                                                                                            \n",
            "                                                                                                  \n",
            " concatenate (Concatenate)   (None, 769)                  0         ['tf.__operators__.getitem_1[0\n",
            "                                                                    ][0]',                        \n",
            "                                                                     'numerical_features[0][0]']  \n",
            "                                                                                                  \n",
            " sequential_1 (Sequential)   (None, 1)                    106881    ['concatenate[0][0]']         \n",
            "                                                                                                  \n",
            "==================================================================================================\n",
            "Total params: 109589121 (418.05 MB)\n",
            "Trainable params: 106881 (417.50 KB)\n",
            "Non-trainable params: 109482240 (417.64 MB)\n",
            "__________________________________________________________________________________________________\n"
          ]
        }
      ],
      "source": [
        "# Define input layers\n",
        "input_ids = tf.keras.layers.Input(shape=(config['max_seq_length'],), dtype=tf.int32, name=\"input_ids\")\n",
        "numerical_features = tf.keras.layers.Input(shape=(1,), dtype=tf.float32, name=\"numerical_features\")\n",
        "\n",
        "# BERT embedding layer\n",
        "bert_output = bert_model(input_ids)[0]  # BERT's output\n",
        "pooler_output = bert_output[:, 0, :]    # Pooler output\n",
        "\n",
        "# Combine BERT output with numerical features\n",
        "concatenated_features = tf.keras.layers.concatenate([pooler_output, numerical_features])\n",
        "\n",
        "# Custom regression head\n",
        "regression_head = tf.keras.models.Sequential([\n",
        "    tf.keras.layers.Dense(128, activation='relu'),\n",
        "    tf.keras.layers.Dropout(0.3),\n",
        "    tf.keras.layers.Dense(64, activation='relu'),\n",
        "    tf.keras.layers.Dropout(0.3),\n",
        "    tf.keras.layers.Dense(1, activation='linear')\n",
        "])\n",
        "\n",
        "# Connect regression head to combined features\n",
        "regression_output = regression_head(concatenated_features)\n",
        "\n",
        "# Create the final model\n",
        "bert_num_model = tf.keras.models.Model(inputs=[input_ids, numerical_features], outputs=regression_output)\n",
        "\n",
        "# Set BERT layers as non-trainable\n",
        "for layer in bert_model.layers:\n",
        "    layer.trainable = False\n",
        "\n",
        "# Compile the model\n",
        "bert_num_model.compile(optimizer=tf.keras.optimizers.Adam(config['learning_rate']),\n",
        "    loss=config['loss'],\n",
        "    metrics=config['metrics'])\n",
        "\n",
        "# Print model summary\n",
        "bert_num_model.summary()"
      ]
    },
    {
      "cell_type": "code",
      "execution_count": 25,
      "id": "qaSd7MWA8uTk",
      "metadata": {
        "colab": {
          "base_uri": "https://localhost:8080/",
          "height": 437
        },
        "executionInfo": {
          "elapsed": 19,
          "status": "ok",
          "timestamp": 1703138609508,
          "user": {
            "displayName": "",
            "userId": ""
          },
          "user_tz": -420
        },
        "id": "qaSd7MWA8uTk",
        "outputId": "b2bcec94-23ce-4a28-f693-7bb9fa16e062"
      },
      "outputs": [
        {
          "name": "stdout",
          "output_type": "stream",
          "text": [
            "You must install pydot (`pip install pydot`) and install graphviz (see instructions at https://graphviz.gitlab.io/download/) for plot_model to work.\n"
          ]
        }
      ],
      "source": [
        "tf.keras.utils.plot_model(bert_num_model)"
      ]
    },
    {
      "cell_type": "code",
      "execution_count": 26,
      "id": "INx8r2_u8v1A",
      "metadata": {
        "colab": {
          "base_uri": "https://localhost:8080/"
        },
        "executionInfo": {
          "elapsed": 3241,
          "status": "ok",
          "timestamp": 1703138619101,
          "user": {
            "displayName": "",
            "userId": ""
          },
          "user_tz": -420
        },
        "id": "INx8r2_u8v1A",
        "outputId": "fe3d17ae-4930-4489-827b-551d6808d72b"
      },
      "outputs": [
        {
          "name": "stdout",
          "output_type": "stream",
          "text": [
            "Model: \"model_2\"\n",
            "__________________________________________________________________________________________________\n",
            " Layer (type)                Output Shape                 Param #   Connected to                  \n",
            "==================================================================================================\n",
            " input_ids (InputLayer)      [(None, 512)]                0         []                            \n",
            "                                                                                                  \n",
            " tf_bert_model (TFBertModel  TFBaseModelOutputWithPooli   1094822   ['input_ids[0][0]']           \n",
            " )                           ngAndCrossAttentions(last_   40                                      \n",
            "                             hidden_state=(None, 512, 7                                           \n",
            "                             68),                                                                 \n",
            "                              pooler_output=(None, 768)                                           \n",
            "                             , past_key_values=None, hi                                           \n",
            "                             dden_states=None, attentio                                           \n",
            "                             ns=None, cross_attentions=                                           \n",
            "                             None)                                                                \n",
            "                                                                                                  \n",
            " tf.__operators__.getitem_2  (None, 768)                  0         ['tf_bert_model[2][0]']       \n",
            "  (SlicingOpLambda)                                                                               \n",
            "                                                                                                  \n",
            " numerical_features (InputL  [(None, 1)]                  0         []                            \n",
            " ayer)                                                                                            \n",
            "                                                                                                  \n",
            " binary_features (InputLaye  [(None, 2)]                  0         []                            \n",
            " r)                                                                                               \n",
            "                                                                                                  \n",
            " concatenate_1 (Concatenate  (None, 771)                  0         ['tf.__operators__.getitem_2[0\n",
            " )                                                                  ][0]',                        \n",
            "                                                                     'numerical_features[0][0]',  \n",
            "                                                                     'binary_features[0][0]']     \n",
            "                                                                                                  \n",
            " sequential_2 (Sequential)   (None, 1)                    107137    ['concatenate_1[0][0]']       \n",
            "                                                                                                  \n",
            "==================================================================================================\n",
            "Total params: 109589377 (418.05 MB)\n",
            "Trainable params: 107137 (418.50 KB)\n",
            "Non-trainable params: 109482240 (417.64 MB)\n",
            "__________________________________________________________________________________________________\n"
          ]
        }
      ],
      "source": [
        "# Define input layers\n",
        "input_ids = tf.keras.layers.Input(shape=(config['max_seq_length'],), dtype=tf.int32, name=\"input_ids\")\n",
        "numerical_features = tf.keras.layers.Input(shape=(1,), dtype=tf.float32, name=\"numerical_features\")\n",
        "binary_features = tf.keras.layers.Input(shape=(2,), dtype=tf.float32, name=\"binary_features\")\n",
        "\n",
        "# BERT embedding layer\n",
        "bert_output = bert_model(input_ids)[0]  # BERT's output\n",
        "pooler_output = bert_output[:, 0, :]     # Pooler output\n",
        "\n",
        "# Combine BERT output with numerical features\n",
        "concatenated_features = tf.keras.layers.concatenate([pooler_output, numerical_features, binary_features])\n",
        "\n",
        "# Custom regression head\n",
        "regression_head = tf.keras.models.Sequential([\n",
        "    tf.keras.layers.Dense(128, activation='relu'),\n",
        "    tf.keras.layers.Dropout(0.2),\n",
        "    tf.keras.layers.Dense(64, activation='relu'),\n",
        "    tf.keras.layers.Dropout(0.2),\n",
        "    tf.keras.layers.Dense(1, activation='linear')\n",
        "])\n",
        "\n",
        "# Connect regression head to combined features\n",
        "regression_output = regression_head(concatenated_features)\n",
        "\n",
        "# Create the final model\n",
        "bert_num_binary_model = tf.keras.models.Model(inputs=[input_ids, numerical_features, binary_features], outputs=regression_output)\n",
        "\n",
        "# Set BERT layers as non-trainable\n",
        "for layer in bert_model.layers:\n",
        "    layer.trainable = False\n",
        "\n",
        "# Compile the model\n",
        "bert_num_binary_model.compile(optimizer=tf.keras.optimizers.Adam(config['learning_rate']),\n",
        "    loss=config['loss'],\n",
        "    metrics=config['metrics'])\n",
        "\n",
        "# Print model summary\n",
        "bert_num_binary_model.summary()"
      ]
    },
    {
      "cell_type": "code",
      "execution_count": 27,
      "id": "1dCRyfVn8ybB",
      "metadata": {
        "colab": {
          "base_uri": "https://localhost:8080/",
          "height": 319
        },
        "executionInfo": {
          "elapsed": 23,
          "status": "ok",
          "timestamp": 1703138628924,
          "user": {
            "displayName": "",
            "userId": ""
          },
          "user_tz": -420
        },
        "id": "1dCRyfVn8ybB",
        "outputId": "d5320f07-529c-44c2-8f4a-8ceae2c0edd4"
      },
      "outputs": [
        {
          "name": "stdout",
          "output_type": "stream",
          "text": [
            "You must install pydot (`pip install pydot`) and install graphviz (see instructions at https://graphviz.gitlab.io/download/) for plot_model to work.\n"
          ]
        }
      ],
      "source": [
        "tf.keras.utils.plot_model(bert_num_binary_model)"
      ]
    },
    {
      "cell_type": "code",
      "execution_count": 28,
      "id": "7Q1tI_Lo8zyz",
      "metadata": {
        "executionInfo": {
          "elapsed": 15,
          "status": "ok",
          "timestamp": 1703138635983,
          "user": {
            "displayName": "",
            "userId": ""
          },
          "user_tz": -420
        },
        "id": "7Q1tI_Lo8zyz"
      },
      "outputs": [],
      "source": [
        "# Define a callback to perform early stopping\n",
        "earlystop_callback = tf.keras.callbacks.EarlyStopping(\n",
        "    monitor='val_loss',  # Monitor validation loss\n",
        "    min_delta=0,         # Minimum change in validation loss to be considered an improvement\n",
        "    patience=3,          # Number of epochs with no improvement after which training will stop\n",
        "    verbose=0,           # Verbosity mode (0 for silent)\n",
        "    mode='auto'          # Automatically infer the direction of loss improvement\n",
        ")"
      ]
    },
    {
      "cell_type": "code",
      "execution_count": 29,
      "id": "8FtXnO2U81FD",
      "metadata": {
        "colab": {
          "base_uri": "https://localhost:8080/"
        },
        "executionInfo": {
          "elapsed": 538023,
          "status": "ok",
          "timestamp": 1703139181972,
          "user": {
            "displayName": "",
            "userId": ""
          },
          "user_tz": -420
        },
        "id": "8FtXnO2U81FD",
        "outputId": "238a415d-9eba-49de-b97e-7a247ce79c2f"
      },
      "outputs": [
        {
          "name": "stdout",
          "output_type": "stream",
          "text": [
            "Epoch 1/50\n",
            "41/41 [==============================] - ETA: 0s - loss: 5.9056 - mean_absolute_error: 1.8859 - root_mean_squared_error: 2.4302  \n",
            "Epoch 1: val_loss improved from inf to 0.95925, saving model to model1.h5\n"
          ]
        },
        {
          "name": "stderr",
          "output_type": "stream",
          "text": [
            "c:\\Users\\shefi\\AppData\\Local\\Programs\\Python\\Python39\\lib\\site-packages\\keras\\src\\engine\\training.py:3000: UserWarning: You are saving your model as an HDF5 file via `model.save()`. This file format is considered legacy. We recommend using instead the native Keras format, e.g. `model.save('my_model.keras')`.\n",
            "  saving_api.save_model(\n"
          ]
        },
        {
          "name": "stdout",
          "output_type": "stream",
          "text": [
            "41/41 [==============================] - 3987s 97s/step - loss: 5.9056 - mean_absolute_error: 1.8859 - root_mean_squared_error: 2.4302 - val_loss: 0.9592 - val_mean_absolute_error: 0.7801 - val_root_mean_squared_error: 0.9794\n",
            "Epoch 2/50\n"
          ]
        }
      ],
      "source": [
        "# Define a callback to save the model with the lowest validation loss\n",
        "checkpoint_callback_bert = tf.keras.callbacks.ModelCheckpoint(\n",
        "    filepath='model1.h5',  # Specify the path to save the best model\n",
        "    monitor='val_loss',       # Monitor validation loss\n",
        "    save_best_only=True,      # Save only the best model (lowest val_loss)\n",
        "    mode='min',               # Consider lower values as better\n",
        "    verbose=1                 # Verbosity mode (0 for silent)\n",
        ")\n",
        "\n",
        "history_bert = bert_text_model.fit(X_train_dict['input_ids'], y_train,\n",
        "    epochs=config['epochs'],\n",
        "    batch_size=config['batch_size'],\n",
        "    validation_data=(X_val_dict['input_ids'], y_val),\n",
        "    callbacks=[checkpoint_callback_bert, earlystop_callback])"
      ]
    },
    {
      "cell_type": "code",
      "execution_count": null,
      "id": "T-yI0hb182hU",
      "metadata": {
        "colab": {
          "base_uri": "https://localhost:8080/"
        },
        "executionInfo": {
          "elapsed": 409120,
          "status": "ok",
          "timestamp": 1703139617621,
          "user": {
            "displayName": "",
            "userId": ""
          },
          "user_tz": -420
        },
        "id": "T-yI0hb182hU",
        "outputId": "aa9871af-8438-4cbd-81ac-123c437feef3"
      },
      "outputs": [
        {
          "name": "stdout",
          "output_type": "stream",
          "text": [
            "Epoch 1/50\n",
            "41/41 [==============================] - ETA: 0s - loss: 6.7346 - mean_absolute_error: 1.8705 - root_mean_squared_error: 2.4799\n",
            "Epoch 1: val_loss improved from inf to 1.17677, saving model to model2.h5\n",
            "41/41 [==============================] - 60s 1s/step - loss: 6.7346 - mean_absolute_error: 1.8705 - root_mean_squared_error: 2.4799 - val_loss: 1.1768 - val_mean_absolute_error: 0.8829 - val_root_mean_squared_error: 1.0848\n",
            "Epoch 2/50\n",
            "41/41 [==============================] - ETA: 0s - loss: 2.6926 - mean_absolute_error: 1.3107 - root_mean_squared_error: 1.6409\n",
            "Epoch 2: val_loss improved from 1.17677 to 1.00680, saving model to model2.h5\n",
            "41/41 [==============================] - 46s 1s/step - loss: 2.6926 - mean_absolute_error: 1.3107 - root_mean_squared_error: 1.6409 - val_loss: 1.0068 - val_mean_absolute_error: 0.8128 - val_root_mean_squared_error: 1.0034\n",
            "Epoch 3/50\n",
            "41/41 [==============================] - ETA: 0s - loss: 2.5386 - mean_absolute_error: 1.2729 - root_mean_squared_error: 1.5933\n",
            "Epoch 3: val_loss did not improve from 1.00680\n",
            "41/41 [==============================] - 42s 1s/step - loss: 2.5386 - mean_absolute_error: 1.2729 - root_mean_squared_error: 1.5933 - val_loss: 1.0119 - val_mean_absolute_error: 0.7977 - val_root_mean_squared_error: 1.0059\n",
            "Epoch 4/50\n",
            "41/41 [==============================] - ETA: 0s - loss: 2.2976 - mean_absolute_error: 1.2130 - root_mean_squared_error: 1.5158\n",
            "Epoch 4: val_loss improved from 1.00680 to 0.80948, saving model to model2.h5\n",
            "41/41 [==============================] - 46s 1s/step - loss: 2.2976 - mean_absolute_error: 1.2130 - root_mean_squared_error: 1.5158 - val_loss: 0.8095 - val_mean_absolute_error: 0.7140 - val_root_mean_squared_error: 0.8997\n",
            "Epoch 5/50\n",
            "41/41 [==============================] - ETA: 0s - loss: 2.2731 - mean_absolute_error: 1.1997 - root_mean_squared_error: 1.5077\n",
            "Epoch 5: val_loss did not improve from 0.80948\n",
            "41/41 [==============================] - 42s 1s/step - loss: 2.2731 - mean_absolute_error: 1.1997 - root_mean_squared_error: 1.5077 - val_loss: 0.8482 - val_mean_absolute_error: 0.7446 - val_root_mean_squared_error: 0.9210\n",
            "Epoch 6/50\n",
            "41/41 [==============================] - ETA: 0s - loss: 2.4746 - mean_absolute_error: 1.2637 - root_mean_squared_error: 1.5731\n",
            "Epoch 6: val_loss improved from 0.80948 to 0.73434, saving model to model2.h5\n",
            "41/41 [==============================] - 46s 1s/step - loss: 2.4746 - mean_absolute_error: 1.2637 - root_mean_squared_error: 1.5731 - val_loss: 0.7343 - val_mean_absolute_error: 0.6877 - val_root_mean_squared_error: 0.8569\n",
            "Epoch 7/50\n",
            "41/41 [==============================] - ETA: 0s - loss: 2.3341 - mean_absolute_error: 1.2237 - root_mean_squared_error: 1.5278\n",
            "Epoch 7: val_loss did not improve from 0.73434\n",
            "41/41 [==============================] - 42s 1s/step - loss: 2.3341 - mean_absolute_error: 1.2237 - root_mean_squared_error: 1.5278 - val_loss: 0.8132 - val_mean_absolute_error: 0.7118 - val_root_mean_squared_error: 0.9018\n",
            "Epoch 8/50\n",
            "41/41 [==============================] - ETA: 0s - loss: 2.3252 - mean_absolute_error: 1.2290 - root_mean_squared_error: 1.5249\n",
            "Epoch 8: val_loss did not improve from 0.73434\n",
            "41/41 [==============================] - 42s 1s/step - loss: 2.3252 - mean_absolute_error: 1.2290 - root_mean_squared_error: 1.5249 - val_loss: 0.7945 - val_mean_absolute_error: 0.6994 - val_root_mean_squared_error: 0.8913\n",
            "Epoch 9/50\n",
            "41/41 [==============================] - ETA: 0s - loss: 2.2894 - mean_absolute_error: 1.2066 - root_mean_squared_error: 1.5131\n",
            "Epoch 9: val_loss did not improve from 0.73434\n",
            "41/41 [==============================] - 42s 1s/step - loss: 2.2894 - mean_absolute_error: 1.2066 - root_mean_squared_error: 1.5131 - val_loss: 1.1515 - val_mean_absolute_error: 0.8601 - val_root_mean_squared_error: 1.0731\n"
          ]
        }
      ],
      "source": [
        "# Define a callback to save the model with the lowest validation loss\n",
        "checkpoint_callback_bert_num = tf.keras.callbacks.ModelCheckpoint(\n",
        "    filepath='model2.h5',  # Specify the path to save the best model\n",
        "    monitor='val_loss',       # Monitor validation loss\n",
        "    save_best_only=True,      # Save only the best model (lowest val_loss)\n",
        "    mode='min',               # Consider lower values as better\n",
        "    verbose=1                 # Verbosity mode (0 for silent)\n",
        ")\n",
        "\n",
        "history_bert_num = bert_num_model.fit([X_train_dict['input_ids'], X_train_dict['numerical_features']], y_train,\n",
        "    epochs=config['epochs'],\n",
        "    batch_size=config['batch_size'],\n",
        "    validation_data=([X_val_dict['input_ids'], X_val_dict['numerical_features']], y_val),\n",
        "    callbacks=[checkpoint_callback_bert_num, earlystop_callback])"
      ]
    },
    {
      "cell_type": "code",
      "execution_count": null,
      "id": "FNA7XMmU86E_",
      "metadata": {
        "colab": {
          "base_uri": "https://localhost:8080/"
        },
        "executionInfo": {
          "elapsed": 369514,
          "status": "ok",
          "timestamp": 1703139995749,
          "user": {
            "displayName": "",
            "userId": ""
          },
          "user_tz": -420
        },
        "id": "FNA7XMmU86E_",
        "outputId": "966425f5-5490-4bc6-c600-7e4611f48dd1"
      },
      "outputs": [
        {
          "name": "stdout",
          "output_type": "stream",
          "text": [
            "Epoch 1/50\n",
            "41/41 [==============================] - ETA: 0s - loss: 4.5042 - mean_absolute_error: 1.5494 - root_mean_squared_error: 2.0415\n",
            "Epoch 1: val_loss improved from inf to 1.31509, saving model to model3.h5\n"
          ]
        },
        {
          "name": "stderr",
          "output_type": "stream",
          "text": [
            "/usr/local/lib/python3.10/dist-packages/keras/src/engine/training.py:3079: UserWarning: You are saving your model as an HDF5 file via `model.save()`. This file format is considered legacy. We recommend using instead the native Keras format, e.g. `model.save('my_model.keras')`.\n",
            "  saving_api.save_model(\n"
          ]
        },
        {
          "name": "stdout",
          "output_type": "stream",
          "text": [
            "\b\b\b\b\b\b\b\b\b\b\b\b\b\b\b\b\b\b\b\b\b\b\b\b\b\b\b\b\b\b\b\b\b\b\b\b\b\b\b\b\b\b\b\b\b\b\b\b\b\b\b\b\b\b\b\b\b\b\b\b\b\b\b\b\b\b\b\b\b\b\b\b\b\b\b\b\b\b\b\b\b\b\b\b\b\b\b\b\b\b\b\b\b\b\b\b\b\b\b\b\b\b\b\b\b\b\b\b\b\b\b\b\b\b\b\b\b\b\b\b\b\b\b\b\b\b\b\r41/41 [==============================] - 60s 1s/step - loss: 4.5042 - mean_absolute_error: 1.5494 - root_mean_squared_error: 2.0415 - val_loss: 1.3151 - val_mean_absolute_error: 0.9263 - val_root_mean_squared_error: 1.1468\n",
            "Epoch 2/50\n",
            "41/41 [==============================] - ETA: 0s - loss: 2.2239 - mean_absolute_error: 1.1990 - root_mean_squared_error: 1.4913\n",
            "Epoch 2: val_loss improved from 1.31509 to 0.82486, saving model to model3.h5\n",
            "41/41 [==============================] - 46s 1s/step - loss: 2.2239 - mean_absolute_error: 1.1990 - root_mean_squared_error: 1.4913 - val_loss: 0.8249 - val_mean_absolute_error: 0.7193 - val_root_mean_squared_error: 0.9082\n",
            "Epoch 3/50\n",
            "41/41 [==============================] - ETA: 0s - loss: 1.8598 - mean_absolute_error: 1.0822 - root_mean_squared_error: 1.3638\n",
            "Epoch 3: val_loss improved from 0.82486 to 0.77179, saving model to model3.h5\n",
            "41/41 [==============================] - 46s 1s/step - loss: 1.8598 - mean_absolute_error: 1.0822 - root_mean_squared_error: 1.3638 - val_loss: 0.7718 - val_mean_absolute_error: 0.7003 - val_root_mean_squared_error: 0.8785\n",
            "Epoch 4/50\n",
            "41/41 [==============================] - ETA: 0s - loss: 1.6425 - mean_absolute_error: 1.0224 - root_mean_squared_error: 1.2816\n",
            "Epoch 4: val_loss improved from 0.77179 to 0.76996, saving model to model3.h5\n",
            "41/41 [==============================] - 46s 1s/step - loss: 1.6425 - mean_absolute_error: 1.0224 - root_mean_squared_error: 1.2816 - val_loss: 0.7700 - val_mean_absolute_error: 0.6865 - val_root_mean_squared_error: 0.8775\n",
            "Epoch 5/50\n",
            "41/41 [==============================] - ETA: 0s - loss: 1.5830 - mean_absolute_error: 1.0094 - root_mean_squared_error: 1.2582\n",
            "Epoch 5: val_loss improved from 0.76996 to 0.74336, saving model to model3.h5\n",
            "41/41 [==============================] - 46s 1s/step - loss: 1.5830 - mean_absolute_error: 1.0094 - root_mean_squared_error: 1.2582 - val_loss: 0.7434 - val_mean_absolute_error: 0.6938 - val_root_mean_squared_error: 0.8622\n",
            "Epoch 6/50\n",
            "41/41 [==============================] - ETA: 0s - loss: 1.6663 - mean_absolute_error: 1.0270 - root_mean_squared_error: 1.2908\n",
            "Epoch 6: val_loss did not improve from 0.74336\n",
            "41/41 [==============================] - 42s 1s/step - loss: 1.6663 - mean_absolute_error: 1.0270 - root_mean_squared_error: 1.2908 - val_loss: 0.8790 - val_mean_absolute_error: 0.7385 - val_root_mean_squared_error: 0.9375\n",
            "Epoch 7/50\n",
            "41/41 [==============================] - ETA: 0s - loss: 1.5263 - mean_absolute_error: 0.9820 - root_mean_squared_error: 1.2354\n",
            "Epoch 7: val_loss did not improve from 0.74336\n",
            "41/41 [==============================] - 42s 1s/step - loss: 1.5263 - mean_absolute_error: 0.9820 - root_mean_squared_error: 1.2354 - val_loss: 0.9812 - val_mean_absolute_error: 0.8128 - val_root_mean_squared_error: 0.9906\n",
            "Epoch 8/50\n",
            "41/41 [==============================] - ETA: 0s - loss: 1.5976 - mean_absolute_error: 1.0107 - root_mean_squared_error: 1.2640\n",
            "Epoch 8: val_loss did not improve from 0.74336\n",
            "41/41 [==============================] - 42s 1s/step - loss: 1.5976 - mean_absolute_error: 1.0107 - root_mean_squared_error: 1.2640 - val_loss: 0.7968 - val_mean_absolute_error: 0.7076 - val_root_mean_squared_error: 0.8927\n"
          ]
        }
      ],
      "source": [
        "# Define a callback to save the model with the lowest validation loss\n",
        "checkpoint_callback_bert_num_bin = tf.keras.callbacks.ModelCheckpoint(\n",
        "    filepath='model3.h5',  # Specify the path to save the best model\n",
        "    monitor='val_loss',       # Monitor validation loss\n",
        "    save_best_only=True,      # Save only the best model (lowest val_loss)\n",
        "    mode='min',               # Consider lower values as better\n",
        "    verbose=1                 # Verbosity mode (0 for silent)\n",
        ")\n",
        "\n",
        "history_bert_num_bin = bert_num_binary_model.fit([X_train_dict['input_ids'], X_train_dict['numerical_features'], X_train_dict['binary_features']],\n",
        "    y_train,\n",
        "    epochs=config['epochs'],\n",
        "    batch_size=config['batch_size'],\n",
        "    validation_data=(X_val_dict, y_val),\n",
        "    callbacks=[checkpoint_callback_bert_num_bin, earlystop_callback])"
      ]
    },
    {
      "cell_type": "code",
      "execution_count": null,
      "id": "abVGPp4z87VZ",
      "metadata": {
        "colab": {
          "base_uri": "https://localhost:8080/",
          "height": 1000
        },
        "executionInfo": {
          "elapsed": 3012,
          "status": "ok",
          "timestamp": 1703140009346,
          "user": {
            "displayName": "",
            "userId": ""
          },
          "user_tz": -420
        },
        "id": "abVGPp4z87VZ",
        "outputId": "c835a4fb-efa6-463b-c322-aa00f9c49df8"
      },
      "outputs": [
        {
          "data": {
            "image/png": "[encoded data removed]",
            "text/plain": [
              "<Figure size 640x480 with 1 Axes>"
            ]
          },
          "metadata": {},
          "output_type": "display_data"
        },
        {
          "data": {
            "image/png": "[encoded data removed]",
            "text/plain": [
              "<Figure size 640x480 with 1 Axes>"
            ]
          },
          "metadata": {},
          "output_type": "display_data"
        },
        {
          "data": {
            "image/png": "[encoded data removed]",
            "text/plain": [
              "<Figure size 640x480 with 1 Axes>"
            ]
          },
          "metadata": {},
          "output_type": "display_data"
        }
      ],
      "source": [
        "# 3rd model\n",
        "plt.plot(history_bert_num_bin.history[\"loss\"])\n",
        "plt.plot(history_bert_num_bin.history[\"val_loss\"])\n",
        "plt.title(\"Model Training History\")\n",
        "plt.xlabel(\"Epochs\")\n",
        "plt.ylabel(\"Loss\")\n",
        "plt.legend([\"Loss\",\"Val Loss\"])\n",
        "plt.show()"
      ]
    },
    {
      "cell_type": "code",
      "execution_count": null,
      "id": "29oVI21h88jk",
      "metadata": {
        "executionInfo": {
          "elapsed": 4329,
          "status": "ok",
          "timestamp": 1703140022153,
          "user": {
            "displayName": "",
            "userId": ""
          },
          "user_tz": -420
        },
        "id": "29oVI21h88jk"
      },
      "outputs": [],
      "source": [
        "bert_text_model.save('model1_v1.h5')\n",
        "bert_num_model.save('model2_v1.h5')\n",
        "bert_num_binary_model.save('model3_v1.h5')\n",
        "\n",
        "bert_text_model.load_weights('model1.h5')\n",
        "bert_num_model.load_weights('model2.h5')\n",
        "bert_num_binary_model.load_weights('model3.h5')"
      ]
    },
    {
      "cell_type": "code",
      "execution_count": null,
      "id": "gaDwtDNP89Px",
      "metadata": {
        "colab": {
          "base_uri": "https://localhost:8080/"
        },
        "executionInfo": {
          "elapsed": 7465,
          "status": "ok",
          "timestamp": 1703140034868,
          "user": {
            "displayName": "",
            "userId": ""
          },
          "user_tz": -420
        },
        "id": "gaDwtDNP89Px",
        "outputId": "d7cbb162-0fca-41f9-c8b2-111dc18e5df7"
      },
      "outputs": [
        {
          "name": "stdout",
          "output_type": "stream",
          "text": [
            "5/5 [==============================] - 7s 698ms/step\n",
            "0.6889774964915382\n"
          ]
        }
      ],
      "source": [
        "predictions_bert_text = bert_text_model.predict(X_val_dict['input_ids'])\n",
        "bert_text_mae = mean_absolute_error(y_val, predictions_bert_text)\n",
        "print(bert_text_mae)"
      ]
    },
    {
      "cell_type": "code",
      "execution_count": null,
      "id": "bRAUosFO8-hT",
      "metadata": {
        "colab": {
          "base_uri": "https://localhost:8080/"
        },
        "executionInfo": {
          "elapsed": 5554,
          "status": "ok",
          "timestamp": 1703140047352,
          "user": {
            "displayName": "",
            "userId": ""
          },
          "user_tz": -420
        },
        "id": "bRAUosFO8-hT",
        "outputId": "70aeede4-f183-4f5d-9414-9de8498bd5a4"
      },
      "outputs": [
        {
          "name": "stdout",
          "output_type": "stream",
          "text": [
            "5/5 [==============================] - 7s 696ms/step\n",
            "0.6877451108561622\n"
          ]
        }
      ],
      "source": [
        "predictions_bert_num = bert_num_model.predict([X_val_dict['input_ids'], X_val_dict['numerical_features']])\n",
        "bert_num_mae = mean_absolute_error(y_val, predictions_bert_num)\n",
        "print(bert_num_mae)"
      ]
    },
    {
      "cell_type": "code",
      "execution_count": null,
      "id": "Qru0wfUx9BMM",
      "metadata": {
        "colab": {
          "base_uri": "https://localhost:8080/"
        },
        "executionInfo": {
          "elapsed": 6676,
          "status": "ok",
          "timestamp": 1703140059954,
          "user": {
            "displayName": "",
            "userId": ""
          },
          "user_tz": -420
        },
        "id": "Qru0wfUx9BMM",
        "outputId": "46703e1c-fd7d-4107-f92c-8fdb815519bb"
      },
      "outputs": [
        {
          "name": "stdout",
          "output_type": "stream",
          "text": [
            "5/5 [==============================] - 7s 698ms/step\n",
            "0.6938385201825036\n"
          ]
        }
      ],
      "source": [
        "predictions_bert_num_bin = bert_num_binary_model.predict([X_val_dict['input_ids'], X_val_dict['numerical_features'], X_val_dict['binary_features']])\n",
        "bert_num_bin_mae = mean_absolute_error(y_val, predictions_bert_num_bin)\n",
        "print(bert_num_bin_mae)"
      ]
    },
    {
      "cell_type": "code",
      "execution_count": null,
      "id": "M-QWplPJ9CgV",
      "metadata": {
        "colab": {
          "base_uri": "https://localhost:8080/",
          "height": 410
        },
        "executionInfo": {
          "elapsed": 3,
          "status": "ok",
          "timestamp": 1703140064833,
          "user": {
            "displayName": "",
            "userId": ""
          },
          "user_tz": -420
        },
        "id": "M-QWplPJ9CgV",
        "outputId": "87dcb47a-1beb-4e68-b5d8-b5e1ab1058af"
      },
      "outputs": [
        {
          "data": {
            "image/png": "[encoded data removed]",
            "text/plain": [
              "<Figure size 500x400 with 1 Axes>"
            ]
          },
          "metadata": {},
          "output_type": "display_data"
        }
      ],
      "source": [
        "# Create a data frame for the metrics and values\n",
        "mae_results = pd.DataFrame({'Models': ['bert_num_bin'],\n",
        "                     'Values': [bert_num_bin_mae]})\n",
        "\n",
        "# Create a bar plot using Seaborn\n",
        "plt.figure(figsize=(5, 4))\n",
        "sns.barplot(x='Models', y='Values', data=mae_results, palette='Set2')\n",
        "plt.xlabel('Models')\n",
        "plt.ylabel('Values')\n",
        "plt.title('Models MAE')\n",
        "\n",
        "plt.ylim(0.6, 0.8)  # Set the y-axis range as needed\n",
        "\n",
        "# Add value labels to the bars\n",
        "for index, row in mae_results.iterrows():\n",
        "    plt.text(index, row['Values'] + 0.005, f'{row[\"Values\"]:.4f}', ha='center', fontsize=10)\n",
        "\n",
        "plt.show()"
      ]
    },
    {
      "cell_type": "code",
      "execution_count": null,
      "id": "Nk_cq1gxGF8j",
      "metadata": {
        "colab": {
          "base_uri": "https://localhost:8080/"
        },
        "executionInfo": {
          "elapsed": 11098,
          "status": "ok",
          "timestamp": 1703144411219,
          "user": {
            "displayName": "",
            "userId": ""
          },
          "user_tz": -420
        },
        "id": "Nk_cq1gxGF8j",
        "outputId": "210a8a07-812a-458f-968d-170b8f882ae0"
      },
      "outputs": [
        {
          "name": "stdout",
          "output_type": "stream",
          "text": [
            "Using tfidf Vectorizer\n",
            "5/5 [==============================] - 4s 691ms/step\n",
            "MAE: 1.5521174801720514\n",
            "[\"In an age where scientific advancements shape our world, the role of education, especially in fields like physics, becomes crucial. Bu Ana, as the Head of the Physics Department, has made commendable strides in evolving the department's curriculum to meet contemporary needs. Her efforts have significantly impacted how physics is taught and perceived, preparing students for the challenges of the modern era.\\n\\nBu Ana has been pivotal in updating the curriculum to include recent developments in physics. Understanding the rapid pace at which this field changes, she has introduced subjects dealing with the latest technological advancements. This inclusion ensures that students are not just learning theories but are also aware of how these theories apply in today's world. As a result, students are more likely to be job-ready and equipped to handle real-world challenges upon graduation.\\n\\nAnother key aspect of Bu Ana's approach is the integration of interdisciplinary studies into the curriculum. She has collaborated with other departments to introduce courses that combine physics with other areas of study, like computer science and environmental science. This approach has opened doors for students to explore physics in new contexts, making their learning experience more diverse and enriching.\\n\\nBu Ana's initiatives have redefined the department's educational approach, bringing a fresh perspective to traditional physics studies. Her leadership in curriculum development has not only benefited current students but also set a precedent for future academic programs. Her work serves as a model for how academic leaders can adapt to changing times and prepare students for future challenges.\\n\\nIn conclusion, Bu Ana's contributions to revamping the physics curriculum have been substantial. Her forward-thinking approach and ability to integrate new ideas and technologies have made the department more relevant and effective in imparting education that resonates with contemporary scientific advancements. Her efforts are a testament to how visionary leadership can positively influence academic environments.\"]\n",
            "The predicted grade for the new essay is: [7.866466]\n",
            "Using count Vectorizer\n",
            "5/5 [==============================] - 4s 691ms/step\n",
            "MAE: 1.5521174801720514\n",
            "[\"In an age where scientific advancements shape our world, the role of education, especially in fields like physics, becomes crucial. Bu Ana, as the Head of the Physics Department, has made commendable strides in evolving the department's curriculum to meet contemporary needs. Her efforts have significantly impacted how physics is taught and perceived, preparing students for the challenges of the modern era.\\n\\nBu Ana has been pivotal in updating the curriculum to include recent developments in physics. Understanding the rapid pace at which this field changes, she has introduced subjects dealing with the latest technological advancements. This inclusion ensures that students are not just learning theories but are also aware of how these theories apply in today's world. As a result, students are more likely to be job-ready and equipped to handle real-world challenges upon graduation.\\n\\nAnother key aspect of Bu Ana's approach is the integration of interdisciplinary studies into the curriculum. She has collaborated with other departments to introduce courses that combine physics with other areas of study, like computer science and environmental science. This approach has opened doors for students to explore physics in new contexts, making their learning experience more diverse and enriching.\\n\\nBu Ana's initiatives have redefined the department's educational approach, bringing a fresh perspective to traditional physics studies. Her leadership in curriculum development has not only benefited current students but also set a precedent for future academic programs. Her work serves as a model for how academic leaders can adapt to changing times and prepare students for future challenges.\\n\\nIn conclusion, Bu Ana's contributions to revamping the physics curriculum have been substantial. Her forward-thinking approach and ability to integrate new ideas and technologies have made the department more relevant and effective in imparting education that resonates with contemporary scientific advancements. Her efforts are a testament to how visionary leadership can positively influence academic environments.\"]\n",
            "The predicted grade for the new essay is: [7.866466]\n"
          ]
        }
      ],
      "source": [
        "from sklearn.feature_extraction.text import TfidfVectorizer, CountVectorizer\n",
        "from scipy.sparse import hstack\n",
        "\n",
        "def preprocess_data(df, vectorizer_type):\n",
        "    # Separate the features and the target label\n",
        "    y = df['Overall']\n",
        "\n",
        "    # Extract the essays for text vectorization\n",
        "    essays = df['Essay']\n",
        "\n",
        "    # Initialize the appropriate vectorizer\n",
        "    if vectorizer_type == 'tfidf':\n",
        "        vectorizer = TfidfVectorizer()\n",
        "    elif vectorizer_type == 'count':\n",
        "        vectorizer = CountVectorizer()\n",
        "\n",
        "    # Vectorize the text feature 'Essay'\n",
        "    X_vectorized = vectorizer.fit_transform(essays)\n",
        "\n",
        "    # Extract the non-text features\n",
        "    additional_features = df[['Length', 'Task_Type_0', 'Task_Type_1']].values\n",
        "\n",
        "    # Combine the vectorized 'Essay' with the other features\n",
        "    X_combined = hstack([X_vectorized, additional_features])\n",
        "\n",
        "    # Split X and y into train and test sets\n",
        "    X_train, X_test, y_train, y_test = train_test_split(X_combined, y, test_size=0.1, shuffle=True, stratify=y, random_state=42)\n",
        "\n",
        "    return X_train, X_test, y_train, y_test\n",
        "\n",
        "for vectorizer_type in ['tfidf', 'count']:\n",
        "    print(f\"Using {vectorizer_type} Vectorizer\")\n",
        "    X_train, X_test, y_train, y_test = preprocess_data(df, vectorizer_type)\n",
        "\n",
        "    essay_string = [\"\"\"In an age where scientific advancements shape our world, the role of education, especially in fields like physics, becomes crucial. Bu Ana, as the Head of the Physics Department, has made commendable strides in evolving the department's curriculum to meet contemporary needs. Her efforts have significantly impacted how physics is taught and perceived, preparing students for the challenges of the modern era.\n",
        "\n",
        "Bu Ana has been pivotal in updating the curriculum to include recent developments in physics. Understanding the rapid pace at which this field changes, she has introduced subjects dealing with the latest technological advancements. This inclusion ensures that students are not just learning theories but are also aware of how these theories apply in today's world. As a result, students are more likely to be job-ready and equipped to handle real-world challenges upon graduation.\n",
        "\n",
        "Another key aspect of Bu Ana's approach is the integration of interdisciplinary studies into the curriculum. She has collaborated with other departments to introduce courses that combine physics with other areas of study, like computer science and environmental science. This approach has opened doors for students to explore physics in new contexts, making their learning experience more diverse and enriching.\n",
        "\n",
        "Bu Ana's initiatives have redefined the department's educational approach, bringing a fresh perspective to traditional physics studies. Her leadership in curriculum development has not only benefited current students but also set a precedent for future academic programs. Her work serves as a model for how academic leaders can adapt to changing times and prepare students for future challenges.\n",
        "\n",
        "In conclusion, Bu Ana's contributions to revamping the physics curriculum have been substantial. Her forward-thinking approach and ability to integrate new ideas and technologies have made the department more relevant and effective in imparting education that resonates with contemporary scientific advancements. Her efforts are a testament to how visionary leadership can positively influence academic environments.\"\"\"]\n",
        "\n",
        "    # Replace this with actual essays from X_test\n",
        "    essays_test = essay_string * X_test.shape[0]\n",
        "\n",
        "    # Tokenize the essays\n",
        "    tokenized_essays = bert_tokenizer(essays_test, padding='max_length', truncation=True, return_tensors='tf', max_length=512)\n",
        "\n",
        "    # Extract numerical and binary features from X_test\n",
        "    numerical_features_test = X_test[:, -3].toarray()\n",
        "    binary_features_test = X_test[:, -2:].toarray()\n",
        "\n",
        "    # Standardize numerical features\n",
        "    numerical_features_test = scaler.transform(numerical_features_test).astype(np.float32)\n",
        "\n",
        "    # Prepare inputs for the model\n",
        "    model_inputs = [tokenized_essays['input_ids'], numerical_features_test, binary_features_test]\n",
        "\n",
        "    # Make predictions\n",
        "    y_pred = bert_num_binary_model.predict(model_inputs)\n",
        "\n",
        "    print(\"MAE:\", mean_absolute_error(y_test, y_pred))\n",
        "    print(essay_string)\n",
        "    print(f\"The predicted grade for the new essay is: {y_pred[0]}\")"
      ]
    }
  ],
  "metadata": {
    "colab": {
      "provenance": []
    },
    "kernelspec": {
      "display_name": "Python 3",
      "language": "python",
      "name": "python3"
    },
    "language_info": {
      "codemirror_mode": {
        "name": "ipython",
        "version": 3
      },
      "file_extension": ".py",
      "mimetype": "text/x-python",
      "name": "python",
      "nbconvert_exporter": "python",
      "pygments_lexer": "ipython3",
      "version": "3.9.0"
    },
    "widgets": {
      "application/vnd.jupyter.widget-state+json": {
        "0702d8c9c6374e6792a39858309ddafe": {
          "model_module": "@jupyter-widgets/controls",
          "model_module_version": "1.5.0",
          "model_name": "ProgressStyleModel",
          "state": {
            "_model_module": "@jupyter-widgets/controls",
            "_model_module_version": "1.5.0",
            "_model_name": "ProgressStyleModel",
            "_view_count": null,
            "_view_module": "@jupyter-widgets/base",
            "_view_module_version": "1.2.0",
            "_view_name": "StyleView",
            "bar_color": null,
            "description_width": ""
          }
        },
        "0b74fa599d3c4236a2216925ddb642c4": {
          "model_module": "@jupyter-widgets/controls",
          "model_module_version": "1.5.0",
          "model_name": "DescriptionStyleModel",
          "state": {
            "_model_module": "@jupyter-widgets/controls",
            "_model_module_version": "1.5.0",
            "_model_name": "DescriptionStyleModel",
            "_view_count": null,
            "_view_module": "@jupyter-widgets/base",
            "_view_module_version": "1.2.0",
            "_view_name": "StyleView",
            "description_width": ""
          }
        },
        "0d31abcc309343fba44a03ddf4301218": {
          "model_module": "@jupyter-widgets/base",
          "model_module_version": "1.2.0",
          "model_name": "LayoutModel",
          "state": {
            "_model_module": "@jupyter-widgets/base",
            "_model_module_version": "1.2.0",
            "_model_name": "LayoutModel",
            "_view_count": null,
            "_view_module": "@jupyter-widgets/base",
            "_view_module_version": "1.2.0",
            "_view_name": "LayoutView",
            "align_content": null,
            "align_items": null,
            "align_self": null,
            "border": null,
            "bottom": null,
            "display": null,
            "flex": null,
            "flex_flow": null,
            "grid_area": null,
            "grid_auto_columns": null,
            "grid_auto_flow": null,
            "grid_auto_rows": null,
            "grid_column": null,
            "grid_gap": null,
            "grid_row": null,
            "grid_template_areas": null,
            "grid_template_columns": null,
            "grid_template_rows": null,
            "height": null,
            "justify_content": null,
            "justify_items": null,
            "left": null,
            "margin": null,
            "max_height": null,
            "max_width": null,
            "min_height": null,
            "min_width": null,
            "object_fit": null,
            "object_position": null,
            "order": null,
            "overflow": null,
            "overflow_x": null,
            "overflow_y": null,
            "padding": null,
            "right": null,
            "top": null,
            "visibility": null,
            "width": null
          }
        },
        "16a6c9268461483fac89663c95128dfa": {
          "model_module": "@jupyter-widgets/controls",
          "model_module_version": "1.5.0",
          "model_name": "FloatProgressModel",
          "state": {
            "_dom_classes": [],
            "_model_module": "@jupyter-widgets/controls",
            "_model_module_version": "1.5.0",
            "_model_name": "FloatProgressModel",
            "_view_count": null,
            "_view_module": "@jupyter-widgets/controls",
            "_view_module_version": "1.5.0",
            "_view_name": "ProgressView",
            "bar_style": "success",
            "description": "",
            "description_tooltip": null,
            "layout": "IPY_MODEL_92faa03797db493db61a4cf584c791f6",
            "max": 231508,
            "min": 0,
            "orientation": "horizontal",
            "style": "IPY_MODEL_0702d8c9c6374e6792a39858309ddafe",
            "value": 231508
          }
        },
        "16c3cdd661384ddca3bbfceae09aa576": {
          "model_module": "@jupyter-widgets/controls",
          "model_module_version": "1.5.0",
          "model_name": "HTMLModel",
          "state": {
            "_dom_classes": [],
            "_model_module": "@jupyter-widgets/controls",
            "_model_module_version": "1.5.0",
            "_model_name": "HTMLModel",
            "_view_count": null,
            "_view_module": "@jupyter-widgets/controls",
            "_view_module_version": "1.5.0",
            "_view_name": "HTMLView",
            "description": "",
            "description_tooltip": null,
            "layout": "IPY_MODEL_4cbc3b31a485412ca8c3734c03b562b3",
            "placeholder": "​",
            "style": "IPY_MODEL_b3ea67161c3c436bb707ea1cae7fae78",
            "value": "config.json: 100%"
          }
        },
        "19606603a39c447bbf3669a0f7d54a5c": {
          "model_module": "@jupyter-widgets/controls",
          "model_module_version": "1.5.0",
          "model_name": "ProgressStyleModel",
          "state": {
            "_model_module": "@jupyter-widgets/controls",
            "_model_module_version": "1.5.0",
            "_model_name": "ProgressStyleModel",
            "_view_count": null,
            "_view_module": "@jupyter-widgets/base",
            "_view_module_version": "1.2.0",
            "_view_name": "StyleView",
            "bar_color": null,
            "description_width": ""
          }
        },
        "1a2f689ab3a5401793269a6c7f97d00a": {
          "model_module": "@jupyter-widgets/base",
          "model_module_version": "1.2.0",
          "model_name": "LayoutModel",
          "state": {
            "_model_module": "@jupyter-widgets/base",
            "_model_module_version": "1.2.0",
            "_model_name": "LayoutModel",
            "_view_count": null,
            "_view_module": "@jupyter-widgets/base",
            "_view_module_version": "1.2.0",
            "_view_name": "LayoutView",
            "align_content": null,
            "align_items": null,
            "align_self": null,
            "border": null,
            "bottom": null,
            "display": null,
            "flex": null,
            "flex_flow": null,
            "grid_area": null,
            "grid_auto_columns": null,
            "grid_auto_flow": null,
            "grid_auto_rows": null,
            "grid_column": null,
            "grid_gap": null,
            "grid_row": null,
            "grid_template_areas": null,
            "grid_template_columns": null,
            "grid_template_rows": null,
            "height": null,
            "justify_content": null,
            "justify_items": null,
            "left": null,
            "margin": null,
            "max_height": null,
            "max_width": null,
            "min_height": null,
            "min_width": null,
            "object_fit": null,
            "object_position": null,
            "order": null,
            "overflow": null,
            "overflow_x": null,
            "overflow_y": null,
            "padding": null,
            "right": null,
            "top": null,
            "visibility": null,
            "width": null
          }
        },
        "220d2de2d2f14c4dba2ee91894dcca01": {
          "model_module": "@jupyter-widgets/controls",
          "model_module_version": "1.5.0",
          "model_name": "DescriptionStyleModel",
          "state": {
            "_model_module": "@jupyter-widgets/controls",
            "_model_module_version": "1.5.0",
            "_model_name": "DescriptionStyleModel",
            "_view_count": null,
            "_view_module": "@jupyter-widgets/base",
            "_view_module_version": "1.2.0",
            "_view_name": "StyleView",
            "description_width": ""
          }
        },
        "2a77f3c7dd8c4dce96f73ffb7e53f0a3": {
          "model_module": "@jupyter-widgets/controls",
          "model_module_version": "1.5.0",
          "model_name": "HTMLModel",
          "state": {
            "_dom_classes": [],
            "_model_module": "@jupyter-widgets/controls",
            "_model_module_version": "1.5.0",
            "_model_name": "HTMLModel",
            "_view_count": null,
            "_view_module": "@jupyter-widgets/controls",
            "_view_module_version": "1.5.0",
            "_view_name": "HTMLView",
            "description": "",
            "description_tooltip": null,
            "layout": "IPY_MODEL_8b40ded7a6244fe2a36d61c41a986b53",
            "placeholder": "​",
            "style": "IPY_MODEL_0b74fa599d3c4236a2216925ddb642c4",
            "value": " 570/570 [00:00&lt;00:00, 52.3kB/s]"
          }
        },
        "2c7f2c5975ba4740b572b3207919d2a0": {
          "model_module": "@jupyter-widgets/controls",
          "model_module_version": "1.5.0",
          "model_name": "HTMLModel",
          "state": {
            "_dom_classes": [],
            "_model_module": "@jupyter-widgets/controls",
            "_model_module_version": "1.5.0",
            "_model_name": "HTMLModel",
            "_view_count": null,
            "_view_module": "@jupyter-widgets/controls",
            "_view_module_version": "1.5.0",
            "_view_name": "HTMLView",
            "description": "",
            "description_tooltip": null,
            "layout": "IPY_MODEL_6e99c804faf64bdab3f6ec80649a084f",
            "placeholder": "​",
            "style": "IPY_MODEL_4ea213f71d7f4dd2a66df8bd044f89fb",
            "value": "model.safetensors: 100%"
          }
        },
        "2cd9f5574c18462887000f8567c4d05f": {
          "model_module": "@jupyter-widgets/controls",
          "model_module_version": "1.5.0",
          "model_name": "ProgressStyleModel",
          "state": {
            "_model_module": "@jupyter-widgets/controls",
            "_model_module_version": "1.5.0",
            "_model_name": "ProgressStyleModel",
            "_view_count": null,
            "_view_module": "@jupyter-widgets/base",
            "_view_module_version": "1.2.0",
            "_view_name": "StyleView",
            "bar_color": null,
            "description_width": ""
          }
        },
        "3692b14cb6fb4b1780fdca01bd9f5b66": {
          "model_module": "@jupyter-widgets/controls",
          "model_module_version": "1.5.0",
          "model_name": "ProgressStyleModel",
          "state": {
            "_model_module": "@jupyter-widgets/controls",
            "_model_module_version": "1.5.0",
            "_model_name": "ProgressStyleModel",
            "_view_count": null,
            "_view_module": "@jupyter-widgets/base",
            "_view_module_version": "1.2.0",
            "_view_name": "StyleView",
            "bar_color": null,
            "description_width": ""
          }
        },
        "389c6cb5dfe3422dbbf370b8811020c8": {
          "model_module": "@jupyter-widgets/controls",
          "model_module_version": "1.5.0",
          "model_name": "FloatProgressModel",
          "state": {
            "_dom_classes": [],
            "_model_module": "@jupyter-widgets/controls",
            "_model_module_version": "1.5.0",
            "_model_name": "FloatProgressModel",
            "_view_count": null,
            "_view_module": "@jupyter-widgets/controls",
            "_view_module_version": "1.5.0",
            "_view_name": "ProgressView",
            "bar_style": "success",
            "description": "",
            "description_tooltip": null,
            "layout": "IPY_MODEL_88fd7d785b4c49ac9653d5eede36d7aa",
            "max": 570,
            "min": 0,
            "orientation": "horizontal",
            "style": "IPY_MODEL_867c969ae46f4dd483c15f38c044b71e",
            "value": 570
          }
        },
        "3bcbd25250754d1cbbbe52f300c2ff5f": {
          "model_module": "@jupyter-widgets/base",
          "model_module_version": "1.2.0",
          "model_name": "LayoutModel",
          "state": {
            "_model_module": "@jupyter-widgets/base",
            "_model_module_version": "1.2.0",
            "_model_name": "LayoutModel",
            "_view_count": null,
            "_view_module": "@jupyter-widgets/base",
            "_view_module_version": "1.2.0",
            "_view_name": "LayoutView",
            "align_content": null,
            "align_items": null,
            "align_self": null,
            "border": null,
            "bottom": null,
            "display": null,
            "flex": null,
            "flex_flow": null,
            "grid_area": null,
            "grid_auto_columns": null,
            "grid_auto_flow": null,
            "grid_auto_rows": null,
            "grid_column": null,
            "grid_gap": null,
            "grid_row": null,
            "grid_template_areas": null,
            "grid_template_columns": null,
            "grid_template_rows": null,
            "height": null,
            "justify_content": null,
            "justify_items": null,
            "left": null,
            "margin": null,
            "max_height": null,
            "max_width": null,
            "min_height": null,
            "min_width": null,
            "object_fit": null,
            "object_position": null,
            "order": null,
            "overflow": null,
            "overflow_x": null,
            "overflow_y": null,
            "padding": null,
            "right": null,
            "top": null,
            "visibility": null,
            "width": null
          }
        },
        "43f8a09b8474456686182854e1c83718": {
          "model_module": "@jupyter-widgets/controls",
          "model_module_version": "1.5.0",
          "model_name": "HTMLModel",
          "state": {
            "_dom_classes": [],
            "_model_module": "@jupyter-widgets/controls",
            "_model_module_version": "1.5.0",
            "_model_name": "HTMLModel",
            "_view_count": null,
            "_view_module": "@jupyter-widgets/controls",
            "_view_module_version": "1.5.0",
            "_view_name": "HTMLView",
            "description": "",
            "description_tooltip": null,
            "layout": "IPY_MODEL_3bcbd25250754d1cbbbe52f300c2ff5f",
            "placeholder": "​",
            "style": "IPY_MODEL_954b90ec81634050864b67bc52ac525e",
            "value": " 440M/440M [00:01&lt;00:00, 304MB/s]"
          }
        },
        "44e416c828f54afcaac9b02b1972735f": {
          "model_module": "@jupyter-widgets/base",
          "model_module_version": "1.2.0",
          "model_name": "LayoutModel",
          "state": {
            "_model_module": "@jupyter-widgets/base",
            "_model_module_version": "1.2.0",
            "_model_name": "LayoutModel",
            "_view_count": null,
            "_view_module": "@jupyter-widgets/base",
            "_view_module_version": "1.2.0",
            "_view_name": "LayoutView",
            "align_content": null,
            "align_items": null,
            "align_self": null,
            "border": null,
            "bottom": null,
            "display": null,
            "flex": null,
            "flex_flow": null,
            "grid_area": null,
            "grid_auto_columns": null,
            "grid_auto_flow": null,
            "grid_auto_rows": null,
            "grid_column": null,
            "grid_gap": null,
            "grid_row": null,
            "grid_template_areas": null,
            "grid_template_columns": null,
            "grid_template_rows": null,
            "height": null,
            "justify_content": null,
            "justify_items": null,
            "left": null,
            "margin": null,
            "max_height": null,
            "max_width": null,
            "min_height": null,
            "min_width": null,
            "object_fit": null,
            "object_position": null,
            "order": null,
            "overflow": null,
            "overflow_x": null,
            "overflow_y": null,
            "padding": null,
            "right": null,
            "top": null,
            "visibility": null,
            "width": null
          }
        },
        "49449d21c6224f9c881da566e6448939": {
          "model_module": "@jupyter-widgets/base",
          "model_module_version": "1.2.0",
          "model_name": "LayoutModel",
          "state": {
            "_model_module": "@jupyter-widgets/base",
            "_model_module_version": "1.2.0",
            "_model_name": "LayoutModel",
            "_view_count": null,
            "_view_module": "@jupyter-widgets/base",
            "_view_module_version": "1.2.0",
            "_view_name": "LayoutView",
            "align_content": null,
            "align_items": null,
            "align_self": null,
            "border": null,
            "bottom": null,
            "display": null,
            "flex": null,
            "flex_flow": null,
            "grid_area": null,
            "grid_auto_columns": null,
            "grid_auto_flow": null,
            "grid_auto_rows": null,
            "grid_column": null,
            "grid_gap": null,
            "grid_row": null,
            "grid_template_areas": null,
            "grid_template_columns": null,
            "grid_template_rows": null,
            "height": null,
            "justify_content": null,
            "justify_items": null,
            "left": null,
            "margin": null,
            "max_height": null,
            "max_width": null,
            "min_height": null,
            "min_width": null,
            "object_fit": null,
            "object_position": null,
            "order": null,
            "overflow": null,
            "overflow_x": null,
            "overflow_y": null,
            "padding": null,
            "right": null,
            "top": null,
            "visibility": null,
            "width": null
          }
        },
        "4cbc3b31a485412ca8c3734c03b562b3": {
          "model_module": "@jupyter-widgets/base",
          "model_module_version": "1.2.0",
          "model_name": "LayoutModel",
          "state": {
            "_model_module": "@jupyter-widgets/base",
            "_model_module_version": "1.2.0",
            "_model_name": "LayoutModel",
            "_view_count": null,
            "_view_module": "@jupyter-widgets/base",
            "_view_module_version": "1.2.0",
            "_view_name": "LayoutView",
            "align_content": null,
            "align_items": null,
            "align_self": null,
            "border": null,
            "bottom": null,
            "display": null,
            "flex": null,
            "flex_flow": null,
            "grid_area": null,
            "grid_auto_columns": null,
            "grid_auto_flow": null,
            "grid_auto_rows": null,
            "grid_column": null,
            "grid_gap": null,
            "grid_row": null,
            "grid_template_areas": null,
            "grid_template_columns": null,
            "grid_template_rows": null,
            "height": null,
            "justify_content": null,
            "justify_items": null,
            "left": null,
            "margin": null,
            "max_height": null,
            "max_width": null,
            "min_height": null,
            "min_width": null,
            "object_fit": null,
            "object_position": null,
            "order": null,
            "overflow": null,
            "overflow_x": null,
            "overflow_y": null,
            "padding": null,
            "right": null,
            "top": null,
            "visibility": null,
            "width": null
          }
        },
        "4ea213f71d7f4dd2a66df8bd044f89fb": {
          "model_module": "@jupyter-widgets/controls",
          "model_module_version": "1.5.0",
          "model_name": "DescriptionStyleModel",
          "state": {
            "_model_module": "@jupyter-widgets/controls",
            "_model_module_version": "1.5.0",
            "_model_name": "DescriptionStyleModel",
            "_view_count": null,
            "_view_module": "@jupyter-widgets/base",
            "_view_module_version": "1.2.0",
            "_view_name": "StyleView",
            "description_width": ""
          }
        },
        "65cf32749617440db3c6e7f909b5bb83": {
          "model_module": "@jupyter-widgets/controls",
          "model_module_version": "1.5.0",
          "model_name": "HBoxModel",
          "state": {
            "_dom_classes": [],
            "_model_module": "@jupyter-widgets/controls",
            "_model_module_version": "1.5.0",
            "_model_name": "HBoxModel",
            "_view_count": null,
            "_view_module": "@jupyter-widgets/controls",
            "_view_module_version": "1.5.0",
            "_view_name": "HBoxView",
            "box_style": "",
            "children": [
              "IPY_MODEL_fa22630ab2fe4c57adee342695cbb1ac",
              "IPY_MODEL_16a6c9268461483fac89663c95128dfa",
              "IPY_MODEL_c23f2cc43e7141868405eed99f237c76"
            ],
            "layout": "IPY_MODEL_44e416c828f54afcaac9b02b1972735f"
          }
        },
        "692955062fd9472dadb8b17c97452e70": {
          "model_module": "@jupyter-widgets/base",
          "model_module_version": "1.2.0",
          "model_name": "LayoutModel",
          "state": {
            "_model_module": "@jupyter-widgets/base",
            "_model_module_version": "1.2.0",
            "_model_name": "LayoutModel",
            "_view_count": null,
            "_view_module": "@jupyter-widgets/base",
            "_view_module_version": "1.2.0",
            "_view_name": "LayoutView",
            "align_content": null,
            "align_items": null,
            "align_self": null,
            "border": null,
            "bottom": null,
            "display": null,
            "flex": null,
            "flex_flow": null,
            "grid_area": null,
            "grid_auto_columns": null,
            "grid_auto_flow": null,
            "grid_auto_rows": null,
            "grid_column": null,
            "grid_gap": null,
            "grid_row": null,
            "grid_template_areas": null,
            "grid_template_columns": null,
            "grid_template_rows": null,
            "height": null,
            "justify_content": null,
            "justify_items": null,
            "left": null,
            "margin": null,
            "max_height": null,
            "max_width": null,
            "min_height": null,
            "min_width": null,
            "object_fit": null,
            "object_position": null,
            "order": null,
            "overflow": null,
            "overflow_x": null,
            "overflow_y": null,
            "padding": null,
            "right": null,
            "top": null,
            "visibility": null,
            "width": null
          }
        },
        "6ccb966d67bd4a5db444040c8959d267": {
          "model_module": "@jupyter-widgets/controls",
          "model_module_version": "1.5.0",
          "model_name": "DescriptionStyleModel",
          "state": {
            "_model_module": "@jupyter-widgets/controls",
            "_model_module_version": "1.5.0",
            "_model_name": "DescriptionStyleModel",
            "_view_count": null,
            "_view_module": "@jupyter-widgets/base",
            "_view_module_version": "1.2.0",
            "_view_name": "StyleView",
            "description_width": ""
          }
        },
        "6e99c804faf64bdab3f6ec80649a084f": {
          "model_module": "@jupyter-widgets/base",
          "model_module_version": "1.2.0",
          "model_name": "LayoutModel",
          "state": {
            "_model_module": "@jupyter-widgets/base",
            "_model_module_version": "1.2.0",
            "_model_name": "LayoutModel",
            "_view_count": null,
            "_view_module": "@jupyter-widgets/base",
            "_view_module_version": "1.2.0",
            "_view_name": "LayoutView",
            "align_content": null,
            "align_items": null,
            "align_self": null,
            "border": null,
            "bottom": null,
            "display": null,
            "flex": null,
            "flex_flow": null,
            "grid_area": null,
            "grid_auto_columns": null,
            "grid_auto_flow": null,
            "grid_auto_rows": null,
            "grid_column": null,
            "grid_gap": null,
            "grid_row": null,
            "grid_template_areas": null,
            "grid_template_columns": null,
            "grid_template_rows": null,
            "height": null,
            "justify_content": null,
            "justify_items": null,
            "left": null,
            "margin": null,
            "max_height": null,
            "max_width": null,
            "min_height": null,
            "min_width": null,
            "object_fit": null,
            "object_position": null,
            "order": null,
            "overflow": null,
            "overflow_x": null,
            "overflow_y": null,
            "padding": null,
            "right": null,
            "top": null,
            "visibility": null,
            "width": null
          }
        },
        "7233c70d0ee440d9a429e0668342a588": {
          "model_module": "@jupyter-widgets/base",
          "model_module_version": "1.2.0",
          "model_name": "LayoutModel",
          "state": {
            "_model_module": "@jupyter-widgets/base",
            "_model_module_version": "1.2.0",
            "_model_name": "LayoutModel",
            "_view_count": null,
            "_view_module": "@jupyter-widgets/base",
            "_view_module_version": "1.2.0",
            "_view_name": "LayoutView",
            "align_content": null,
            "align_items": null,
            "align_self": null,
            "border": null,
            "bottom": null,
            "display": null,
            "flex": null,
            "flex_flow": null,
            "grid_area": null,
            "grid_auto_columns": null,
            "grid_auto_flow": null,
            "grid_auto_rows": null,
            "grid_column": null,
            "grid_gap": null,
            "grid_row": null,
            "grid_template_areas": null,
            "grid_template_columns": null,
            "grid_template_rows": null,
            "height": null,
            "justify_content": null,
            "justify_items": null,
            "left": null,
            "margin": null,
            "max_height": null,
            "max_width": null,
            "min_height": null,
            "min_width": null,
            "object_fit": null,
            "object_position": null,
            "order": null,
            "overflow": null,
            "overflow_x": null,
            "overflow_y": null,
            "padding": null,
            "right": null,
            "top": null,
            "visibility": null,
            "width": null
          }
        },
        "789cfd87b0c149108b51d4b9a4e2240e": {
          "model_module": "@jupyter-widgets/controls",
          "model_module_version": "1.5.0",
          "model_name": "FloatProgressModel",
          "state": {
            "_dom_classes": [],
            "_model_module": "@jupyter-widgets/controls",
            "_model_module_version": "1.5.0",
            "_model_name": "FloatProgressModel",
            "_view_count": null,
            "_view_module": "@jupyter-widgets/controls",
            "_view_module_version": "1.5.0",
            "_view_name": "ProgressView",
            "bar_style": "success",
            "description": "",
            "description_tooltip": null,
            "layout": "IPY_MODEL_84adc81cae024d00a304b9d56ed355c7",
            "max": 28,
            "min": 0,
            "orientation": "horizontal",
            "style": "IPY_MODEL_2cd9f5574c18462887000f8567c4d05f",
            "value": 28
          }
        },
        "794e87c4a3cd4fd8a53bb044513f8b31": {
          "model_module": "@jupyter-widgets/base",
          "model_module_version": "1.2.0",
          "model_name": "LayoutModel",
          "state": {
            "_model_module": "@jupyter-widgets/base",
            "_model_module_version": "1.2.0",
            "_model_name": "LayoutModel",
            "_view_count": null,
            "_view_module": "@jupyter-widgets/base",
            "_view_module_version": "1.2.0",
            "_view_name": "LayoutView",
            "align_content": null,
            "align_items": null,
            "align_self": null,
            "border": null,
            "bottom": null,
            "display": null,
            "flex": null,
            "flex_flow": null,
            "grid_area": null,
            "grid_auto_columns": null,
            "grid_auto_flow": null,
            "grid_auto_rows": null,
            "grid_column": null,
            "grid_gap": null,
            "grid_row": null,
            "grid_template_areas": null,
            "grid_template_columns": null,
            "grid_template_rows": null,
            "height": null,
            "justify_content": null,
            "justify_items": null,
            "left": null,
            "margin": null,
            "max_height": null,
            "max_width": null,
            "min_height": null,
            "min_width": null,
            "object_fit": null,
            "object_position": null,
            "order": null,
            "overflow": null,
            "overflow_x": null,
            "overflow_y": null,
            "padding": null,
            "right": null,
            "top": null,
            "visibility": null,
            "width": null
          }
        },
        "7fe3c42292024e4b9cf1e2ba0c76af4e": {
          "model_module": "@jupyter-widgets/base",
          "model_module_version": "1.2.0",
          "model_name": "LayoutModel",
          "state": {
            "_model_module": "@jupyter-widgets/base",
            "_model_module_version": "1.2.0",
            "_model_name": "LayoutModel",
            "_view_count": null,
            "_view_module": "@jupyter-widgets/base",
            "_view_module_version": "1.2.0",
            "_view_name": "LayoutView",
            "align_content": null,
            "align_items": null,
            "align_self": null,
            "border": null,
            "bottom": null,
            "display": null,
            "flex": null,
            "flex_flow": null,
            "grid_area": null,
            "grid_auto_columns": null,
            "grid_auto_flow": null,
            "grid_auto_rows": null,
            "grid_column": null,
            "grid_gap": null,
            "grid_row": null,
            "grid_template_areas": null,
            "grid_template_columns": null,
            "grid_template_rows": null,
            "height": null,
            "justify_content": null,
            "justify_items": null,
            "left": null,
            "margin": null,
            "max_height": null,
            "max_width": null,
            "min_height": null,
            "min_width": null,
            "object_fit": null,
            "object_position": null,
            "order": null,
            "overflow": null,
            "overflow_x": null,
            "overflow_y": null,
            "padding": null,
            "right": null,
            "top": null,
            "visibility": null,
            "width": null
          }
        },
        "80f505ed1d15480fa8e3c7dbff7a45ee": {
          "model_module": "@jupyter-widgets/controls",
          "model_module_version": "1.5.0",
          "model_name": "HBoxModel",
          "state": {
            "_dom_classes": [],
            "_model_module": "@jupyter-widgets/controls",
            "_model_module_version": "1.5.0",
            "_model_name": "HBoxModel",
            "_view_count": null,
            "_view_module": "@jupyter-widgets/controls",
            "_view_module_version": "1.5.0",
            "_view_name": "HBoxView",
            "box_style": "",
            "children": [
              "IPY_MODEL_c712d0861672446283740eed58bd4ee1",
              "IPY_MODEL_789cfd87b0c149108b51d4b9a4e2240e",
              "IPY_MODEL_b0a3e4bc778043e0b807aa49c5e0eb3e"
            ],
            "layout": "IPY_MODEL_49449d21c6224f9c881da566e6448939"
          }
        },
        "82164f939d304ea7b83ed54dad08ea14": {
          "model_module": "@jupyter-widgets/controls",
          "model_module_version": "1.5.0",
          "model_name": "HTMLModel",
          "state": {
            "_dom_classes": [],
            "_model_module": "@jupyter-widgets/controls",
            "_model_module_version": "1.5.0",
            "_model_name": "HTMLModel",
            "_view_count": null,
            "_view_module": "@jupyter-widgets/controls",
            "_view_module_version": "1.5.0",
            "_view_name": "HTMLView",
            "description": "",
            "description_tooltip": null,
            "layout": "IPY_MODEL_d8e549ea5cf048b0904275a65e144bb5",
            "placeholder": "​",
            "style": "IPY_MODEL_6ccb966d67bd4a5db444040c8959d267",
            "value": " 466k/466k [00:00&lt;00:00, 23.5MB/s]"
          }
        },
        "84adc81cae024d00a304b9d56ed355c7": {
          "model_module": "@jupyter-widgets/base",
          "model_module_version": "1.2.0",
          "model_name": "LayoutModel",
          "state": {
            "_model_module": "@jupyter-widgets/base",
            "_model_module_version": "1.2.0",
            "_model_name": "LayoutModel",
            "_view_count": null,
            "_view_module": "@jupyter-widgets/base",
            "_view_module_version": "1.2.0",
            "_view_name": "LayoutView",
            "align_content": null,
            "align_items": null,
            "align_self": null,
            "border": null,
            "bottom": null,
            "display": null,
            "flex": null,
            "flex_flow": null,
            "grid_area": null,
            "grid_auto_columns": null,
            "grid_auto_flow": null,
            "grid_auto_rows": null,
            "grid_column": null,
            "grid_gap": null,
            "grid_row": null,
            "grid_template_areas": null,
            "grid_template_columns": null,
            "grid_template_rows": null,
            "height": null,
            "justify_content": null,
            "justify_items": null,
            "left": null,
            "margin": null,
            "max_height": null,
            "max_width": null,
            "min_height": null,
            "min_width": null,
            "object_fit": null,
            "object_position": null,
            "order": null,
            "overflow": null,
            "overflow_x": null,
            "overflow_y": null,
            "padding": null,
            "right": null,
            "top": null,
            "visibility": null,
            "width": null
          }
        },
        "867c969ae46f4dd483c15f38c044b71e": {
          "model_module": "@jupyter-widgets/controls",
          "model_module_version": "1.5.0",
          "model_name": "ProgressStyleModel",
          "state": {
            "_model_module": "@jupyter-widgets/controls",
            "_model_module_version": "1.5.0",
            "_model_name": "ProgressStyleModel",
            "_view_count": null,
            "_view_module": "@jupyter-widgets/base",
            "_view_module_version": "1.2.0",
            "_view_name": "StyleView",
            "bar_color": null,
            "description_width": ""
          }
        },
        "88fd7d785b4c49ac9653d5eede36d7aa": {
          "model_module": "@jupyter-widgets/base",
          "model_module_version": "1.2.0",
          "model_name": "LayoutModel",
          "state": {
            "_model_module": "@jupyter-widgets/base",
            "_model_module_version": "1.2.0",
            "_model_name": "LayoutModel",
            "_view_count": null,
            "_view_module": "@jupyter-widgets/base",
            "_view_module_version": "1.2.0",
            "_view_name": "LayoutView",
            "align_content": null,
            "align_items": null,
            "align_self": null,
            "border": null,
            "bottom": null,
            "display": null,
            "flex": null,
            "flex_flow": null,
            "grid_area": null,
            "grid_auto_columns": null,
            "grid_auto_flow": null,
            "grid_auto_rows": null,
            "grid_column": null,
            "grid_gap": null,
            "grid_row": null,
            "grid_template_areas": null,
            "grid_template_columns": null,
            "grid_template_rows": null,
            "height": null,
            "justify_content": null,
            "justify_items": null,
            "left": null,
            "margin": null,
            "max_height": null,
            "max_width": null,
            "min_height": null,
            "min_width": null,
            "object_fit": null,
            "object_position": null,
            "order": null,
            "overflow": null,
            "overflow_x": null,
            "overflow_y": null,
            "padding": null,
            "right": null,
            "top": null,
            "visibility": null,
            "width": null
          }
        },
        "89f4c5363d3f4ffdaa26a76e232e1956": {
          "model_module": "@jupyter-widgets/controls",
          "model_module_version": "1.5.0",
          "model_name": "DescriptionStyleModel",
          "state": {
            "_model_module": "@jupyter-widgets/controls",
            "_model_module_version": "1.5.0",
            "_model_name": "DescriptionStyleModel",
            "_view_count": null,
            "_view_module": "@jupyter-widgets/base",
            "_view_module_version": "1.2.0",
            "_view_name": "StyleView",
            "description_width": ""
          }
        },
        "8b40ded7a6244fe2a36d61c41a986b53": {
          "model_module": "@jupyter-widgets/base",
          "model_module_version": "1.2.0",
          "model_name": "LayoutModel",
          "state": {
            "_model_module": "@jupyter-widgets/base",
            "_model_module_version": "1.2.0",
            "_model_name": "LayoutModel",
            "_view_count": null,
            "_view_module": "@jupyter-widgets/base",
            "_view_module_version": "1.2.0",
            "_view_name": "LayoutView",
            "align_content": null,
            "align_items": null,
            "align_self": null,
            "border": null,
            "bottom": null,
            "display": null,
            "flex": null,
            "flex_flow": null,
            "grid_area": null,
            "grid_auto_columns": null,
            "grid_auto_flow": null,
            "grid_auto_rows": null,
            "grid_column": null,
            "grid_gap": null,
            "grid_row": null,
            "grid_template_areas": null,
            "grid_template_columns": null,
            "grid_template_rows": null,
            "height": null,
            "justify_content": null,
            "justify_items": null,
            "left": null,
            "margin": null,
            "max_height": null,
            "max_width": null,
            "min_height": null,
            "min_width": null,
            "object_fit": null,
            "object_position": null,
            "order": null,
            "overflow": null,
            "overflow_x": null,
            "overflow_y": null,
            "padding": null,
            "right": null,
            "top": null,
            "visibility": null,
            "width": null
          }
        },
        "92faa03797db493db61a4cf584c791f6": {
          "model_module": "@jupyter-widgets/base",
          "model_module_version": "1.2.0",
          "model_name": "LayoutModel",
          "state": {
            "_model_module": "@jupyter-widgets/base",
            "_model_module_version": "1.2.0",
            "_model_name": "LayoutModel",
            "_view_count": null,
            "_view_module": "@jupyter-widgets/base",
            "_view_module_version": "1.2.0",
            "_view_name": "LayoutView",
            "align_content": null,
            "align_items": null,
            "align_self": null,
            "border": null,
            "bottom": null,
            "display": null,
            "flex": null,
            "flex_flow": null,
            "grid_area": null,
            "grid_auto_columns": null,
            "grid_auto_flow": null,
            "grid_auto_rows": null,
            "grid_column": null,
            "grid_gap": null,
            "grid_row": null,
            "grid_template_areas": null,
            "grid_template_columns": null,
            "grid_template_rows": null,
            "height": null,
            "justify_content": null,
            "justify_items": null,
            "left": null,
            "margin": null,
            "max_height": null,
            "max_width": null,
            "min_height": null,
            "min_width": null,
            "object_fit": null,
            "object_position": null,
            "order": null,
            "overflow": null,
            "overflow_x": null,
            "overflow_y": null,
            "padding": null,
            "right": null,
            "top": null,
            "visibility": null,
            "width": null
          }
        },
        "9463d12545bb401ebdd2d0d88bf75ba2": {
          "model_module": "@jupyter-widgets/controls",
          "model_module_version": "1.5.0",
          "model_name": "HBoxModel",
          "state": {
            "_dom_classes": [],
            "_model_module": "@jupyter-widgets/controls",
            "_model_module_version": "1.5.0",
            "_model_name": "HBoxModel",
            "_view_count": null,
            "_view_module": "@jupyter-widgets/controls",
            "_view_module_version": "1.5.0",
            "_view_name": "HBoxView",
            "box_style": "",
            "children": [
              "IPY_MODEL_16c3cdd661384ddca3bbfceae09aa576",
              "IPY_MODEL_389c6cb5dfe3422dbbf370b8811020c8",
              "IPY_MODEL_2a77f3c7dd8c4dce96f73ffb7e53f0a3"
            ],
            "layout": "IPY_MODEL_1a2f689ab3a5401793269a6c7f97d00a"
          }
        },
        "94c2424bb78243419e1b8f7dffa051ca": {
          "model_module": "@jupyter-widgets/controls",
          "model_module_version": "1.5.0",
          "model_name": "FloatProgressModel",
          "state": {
            "_dom_classes": [],
            "_model_module": "@jupyter-widgets/controls",
            "_model_module_version": "1.5.0",
            "_model_name": "FloatProgressModel",
            "_view_count": null,
            "_view_module": "@jupyter-widgets/controls",
            "_view_module_version": "1.5.0",
            "_view_name": "ProgressView",
            "bar_style": "success",
            "description": "",
            "description_tooltip": null,
            "layout": "IPY_MODEL_7233c70d0ee440d9a429e0668342a588",
            "max": 466062,
            "min": 0,
            "orientation": "horizontal",
            "style": "IPY_MODEL_3692b14cb6fb4b1780fdca01bd9f5b66",
            "value": 466062
          }
        },
        "954b90ec81634050864b67bc52ac525e": {
          "model_module": "@jupyter-widgets/controls",
          "model_module_version": "1.5.0",
          "model_name": "DescriptionStyleModel",
          "state": {
            "_model_module": "@jupyter-widgets/controls",
            "_model_module_version": "1.5.0",
            "_model_name": "DescriptionStyleModel",
            "_view_count": null,
            "_view_module": "@jupyter-widgets/base",
            "_view_module_version": "1.2.0",
            "_view_name": "StyleView",
            "description_width": ""
          }
        },
        "a43bf25ac8964ab09b9339343446b97b": {
          "model_module": "@jupyter-widgets/controls",
          "model_module_version": "1.5.0",
          "model_name": "HBoxModel",
          "state": {
            "_dom_classes": [],
            "_model_module": "@jupyter-widgets/controls",
            "_model_module_version": "1.5.0",
            "_model_name": "HBoxModel",
            "_view_count": null,
            "_view_module": "@jupyter-widgets/controls",
            "_view_module_version": "1.5.0",
            "_view_name": "HBoxView",
            "box_style": "",
            "children": [
              "IPY_MODEL_ee2ed36312924c32a55bf33fce473fa0",
              "IPY_MODEL_94c2424bb78243419e1b8f7dffa051ca",
              "IPY_MODEL_82164f939d304ea7b83ed54dad08ea14"
            ],
            "layout": "IPY_MODEL_692955062fd9472dadb8b17c97452e70"
          }
        },
        "abb7b959cebb435c9f13d16354ebb9e2": {
          "model_module": "@jupyter-widgets/controls",
          "model_module_version": "1.5.0",
          "model_name": "DescriptionStyleModel",
          "state": {
            "_model_module": "@jupyter-widgets/controls",
            "_model_module_version": "1.5.0",
            "_model_name": "DescriptionStyleModel",
            "_view_count": null,
            "_view_module": "@jupyter-widgets/base",
            "_view_module_version": "1.2.0",
            "_view_name": "StyleView",
            "description_width": ""
          }
        },
        "b0a3e4bc778043e0b807aa49c5e0eb3e": {
          "model_module": "@jupyter-widgets/controls",
          "model_module_version": "1.5.0",
          "model_name": "HTMLModel",
          "state": {
            "_dom_classes": [],
            "_model_module": "@jupyter-widgets/controls",
            "_model_module_version": "1.5.0",
            "_model_name": "HTMLModel",
            "_view_count": null,
            "_view_module": "@jupyter-widgets/controls",
            "_view_module_version": "1.5.0",
            "_view_name": "HTMLView",
            "description": "",
            "description_tooltip": null,
            "layout": "IPY_MODEL_e474f7a0267048239c270c5db80f5466",
            "placeholder": "​",
            "style": "IPY_MODEL_bbb4c9d2d4e14b35ac874514857d5aa5",
            "value": " 28.0/28.0 [00:00&lt;00:00, 2.30kB/s]"
          }
        },
        "b154256f710d4b43b161003f0e777b61": {
          "model_module": "@jupyter-widgets/controls",
          "model_module_version": "1.5.0",
          "model_name": "FloatProgressModel",
          "state": {
            "_dom_classes": [],
            "_model_module": "@jupyter-widgets/controls",
            "_model_module_version": "1.5.0",
            "_model_name": "FloatProgressModel",
            "_view_count": null,
            "_view_module": "@jupyter-widgets/controls",
            "_view_module_version": "1.5.0",
            "_view_name": "ProgressView",
            "bar_style": "success",
            "description": "",
            "description_tooltip": null,
            "layout": "IPY_MODEL_0d31abcc309343fba44a03ddf4301218",
            "max": 440449768,
            "min": 0,
            "orientation": "horizontal",
            "style": "IPY_MODEL_19606603a39c447bbf3669a0f7d54a5c",
            "value": 440449768
          }
        },
        "b1abecfbc9624de7ba4cfd25fd552a85": {
          "model_module": "@jupyter-widgets/controls",
          "model_module_version": "1.5.0",
          "model_name": "HBoxModel",
          "state": {
            "_dom_classes": [],
            "_model_module": "@jupyter-widgets/controls",
            "_model_module_version": "1.5.0",
            "_model_name": "HBoxModel",
            "_view_count": null,
            "_view_module": "@jupyter-widgets/controls",
            "_view_module_version": "1.5.0",
            "_view_name": "HBoxView",
            "box_style": "",
            "children": [
              "IPY_MODEL_2c7f2c5975ba4740b572b3207919d2a0",
              "IPY_MODEL_b154256f710d4b43b161003f0e777b61",
              "IPY_MODEL_43f8a09b8474456686182854e1c83718"
            ],
            "layout": "IPY_MODEL_794e87c4a3cd4fd8a53bb044513f8b31"
          }
        },
        "b3ea67161c3c436bb707ea1cae7fae78": {
          "model_module": "@jupyter-widgets/controls",
          "model_module_version": "1.5.0",
          "model_name": "DescriptionStyleModel",
          "state": {
            "_model_module": "@jupyter-widgets/controls",
            "_model_module_version": "1.5.0",
            "_model_name": "DescriptionStyleModel",
            "_view_count": null,
            "_view_module": "@jupyter-widgets/base",
            "_view_module_version": "1.2.0",
            "_view_name": "StyleView",
            "description_width": ""
          }
        },
        "bb95f52184cd4e9584aeda182677cca5": {
          "model_module": "@jupyter-widgets/base",
          "model_module_version": "1.2.0",
          "model_name": "LayoutModel",
          "state": {
            "_model_module": "@jupyter-widgets/base",
            "_model_module_version": "1.2.0",
            "_model_name": "LayoutModel",
            "_view_count": null,
            "_view_module": "@jupyter-widgets/base",
            "_view_module_version": "1.2.0",
            "_view_name": "LayoutView",
            "align_content": null,
            "align_items": null,
            "align_self": null,
            "border": null,
            "bottom": null,
            "display": null,
            "flex": null,
            "flex_flow": null,
            "grid_area": null,
            "grid_auto_columns": null,
            "grid_auto_flow": null,
            "grid_auto_rows": null,
            "grid_column": null,
            "grid_gap": null,
            "grid_row": null,
            "grid_template_areas": null,
            "grid_template_columns": null,
            "grid_template_rows": null,
            "height": null,
            "justify_content": null,
            "justify_items": null,
            "left": null,
            "margin": null,
            "max_height": null,
            "max_width": null,
            "min_height": null,
            "min_width": null,
            "object_fit": null,
            "object_position": null,
            "order": null,
            "overflow": null,
            "overflow_x": null,
            "overflow_y": null,
            "padding": null,
            "right": null,
            "top": null,
            "visibility": null,
            "width": null
          }
        },
        "bbb4c9d2d4e14b35ac874514857d5aa5": {
          "model_module": "@jupyter-widgets/controls",
          "model_module_version": "1.5.0",
          "model_name": "DescriptionStyleModel",
          "state": {
            "_model_module": "@jupyter-widgets/controls",
            "_model_module_version": "1.5.0",
            "_model_name": "DescriptionStyleModel",
            "_view_count": null,
            "_view_module": "@jupyter-widgets/base",
            "_view_module_version": "1.2.0",
            "_view_name": "StyleView",
            "description_width": ""
          }
        },
        "c23f2cc43e7141868405eed99f237c76": {
          "model_module": "@jupyter-widgets/controls",
          "model_module_version": "1.5.0",
          "model_name": "HTMLModel",
          "state": {
            "_dom_classes": [],
            "_model_module": "@jupyter-widgets/controls",
            "_model_module_version": "1.5.0",
            "_model_name": "HTMLModel",
            "_view_count": null,
            "_view_module": "@jupyter-widgets/controls",
            "_view_module_version": "1.5.0",
            "_view_name": "HTMLView",
            "description": "",
            "description_tooltip": null,
            "layout": "IPY_MODEL_bb95f52184cd4e9584aeda182677cca5",
            "placeholder": "​",
            "style": "IPY_MODEL_89f4c5363d3f4ffdaa26a76e232e1956",
            "value": " 232k/232k [00:00&lt;00:00, 4.73MB/s]"
          }
        },
        "c61e52e88fbb4b178544e5312b0cc1e7": {
          "model_module": "@jupyter-widgets/base",
          "model_module_version": "1.2.0",
          "model_name": "LayoutModel",
          "state": {
            "_model_module": "@jupyter-widgets/base",
            "_model_module_version": "1.2.0",
            "_model_name": "LayoutModel",
            "_view_count": null,
            "_view_module": "@jupyter-widgets/base",
            "_view_module_version": "1.2.0",
            "_view_name": "LayoutView",
            "align_content": null,
            "align_items": null,
            "align_self": null,
            "border": null,
            "bottom": null,
            "display": null,
            "flex": null,
            "flex_flow": null,
            "grid_area": null,
            "grid_auto_columns": null,
            "grid_auto_flow": null,
            "grid_auto_rows": null,
            "grid_column": null,
            "grid_gap": null,
            "grid_row": null,
            "grid_template_areas": null,
            "grid_template_columns": null,
            "grid_template_rows": null,
            "height": null,
            "justify_content": null,
            "justify_items": null,
            "left": null,
            "margin": null,
            "max_height": null,
            "max_width": null,
            "min_height": null,
            "min_width": null,
            "object_fit": null,
            "object_position": null,
            "order": null,
            "overflow": null,
            "overflow_x": null,
            "overflow_y": null,
            "padding": null,
            "right": null,
            "top": null,
            "visibility": null,
            "width": null
          }
        },
        "c712d0861672446283740eed58bd4ee1": {
          "model_module": "@jupyter-widgets/controls",
          "model_module_version": "1.5.0",
          "model_name": "HTMLModel",
          "state": {
            "_dom_classes": [],
            "_model_module": "@jupyter-widgets/controls",
            "_model_module_version": "1.5.0",
            "_model_name": "HTMLModel",
            "_view_count": null,
            "_view_module": "@jupyter-widgets/controls",
            "_view_module_version": "1.5.0",
            "_view_name": "HTMLView",
            "description": "",
            "description_tooltip": null,
            "layout": "IPY_MODEL_f29df09e91264a19a6d8262641b15732",
            "placeholder": "​",
            "style": "IPY_MODEL_e6318095936240a7bf11490d86b8bfd6",
            "value": "tokenizer_config.json: 100%"
          }
        },
        "d8e549ea5cf048b0904275a65e144bb5": {
          "model_module": "@jupyter-widgets/base",
          "model_module_version": "1.2.0",
          "model_name": "LayoutModel",
          "state": {
            "_model_module": "@jupyter-widgets/base",
            "_model_module_version": "1.2.0",
            "_model_name": "LayoutModel",
            "_view_count": null,
            "_view_module": "@jupyter-widgets/base",
            "_view_module_version": "1.2.0",
            "_view_name": "LayoutView",
            "align_content": null,
            "align_items": null,
            "align_self": null,
            "border": null,
            "bottom": null,
            "display": null,
            "flex": null,
            "flex_flow": null,
            "grid_area": null,
            "grid_auto_columns": null,
            "grid_auto_flow": null,
            "grid_auto_rows": null,
            "grid_column": null,
            "grid_gap": null,
            "grid_row": null,
            "grid_template_areas": null,
            "grid_template_columns": null,
            "grid_template_rows": null,
            "height": null,
            "justify_content": null,
            "justify_items": null,
            "left": null,
            "margin": null,
            "max_height": null,
            "max_width": null,
            "min_height": null,
            "min_width": null,
            "object_fit": null,
            "object_position": null,
            "order": null,
            "overflow": null,
            "overflow_x": null,
            "overflow_y": null,
            "padding": null,
            "right": null,
            "top": null,
            "visibility": null,
            "width": null
          }
        },
        "e474f7a0267048239c270c5db80f5466": {
          "model_module": "@jupyter-widgets/base",
          "model_module_version": "1.2.0",
          "model_name": "LayoutModel",
          "state": {
            "_model_module": "@jupyter-widgets/base",
            "_model_module_version": "1.2.0",
            "_model_name": "LayoutModel",
            "_view_count": null,
            "_view_module": "@jupyter-widgets/base",
            "_view_module_version": "1.2.0",
            "_view_name": "LayoutView",
            "align_content": null,
            "align_items": null,
            "align_self": null,
            "border": null,
            "bottom": null,
            "display": null,
            "flex": null,
            "flex_flow": null,
            "grid_area": null,
            "grid_auto_columns": null,
            "grid_auto_flow": null,
            "grid_auto_rows": null,
            "grid_column": null,
            "grid_gap": null,
            "grid_row": null,
            "grid_template_areas": null,
            "grid_template_columns": null,
            "grid_template_rows": null,
            "height": null,
            "justify_content": null,
            "justify_items": null,
            "left": null,
            "margin": null,
            "max_height": null,
            "max_width": null,
            "min_height": null,
            "min_width": null,
            "object_fit": null,
            "object_position": null,
            "order": null,
            "overflow": null,
            "overflow_x": null,
            "overflow_y": null,
            "padding": null,
            "right": null,
            "top": null,
            "visibility": null,
            "width": null
          }
        },
        "e6318095936240a7bf11490d86b8bfd6": {
          "model_module": "@jupyter-widgets/controls",
          "model_module_version": "1.5.0",
          "model_name": "DescriptionStyleModel",
          "state": {
            "_model_module": "@jupyter-widgets/controls",
            "_model_module_version": "1.5.0",
            "_model_name": "DescriptionStyleModel",
            "_view_count": null,
            "_view_module": "@jupyter-widgets/base",
            "_view_module_version": "1.2.0",
            "_view_name": "StyleView",
            "description_width": ""
          }
        },
        "ee2ed36312924c32a55bf33fce473fa0": {
          "model_module": "@jupyter-widgets/controls",
          "model_module_version": "1.5.0",
          "model_name": "HTMLModel",
          "state": {
            "_dom_classes": [],
            "_model_module": "@jupyter-widgets/controls",
            "_model_module_version": "1.5.0",
            "_model_name": "HTMLModel",
            "_view_count": null,
            "_view_module": "@jupyter-widgets/controls",
            "_view_module_version": "1.5.0",
            "_view_name": "HTMLView",
            "description": "",
            "description_tooltip": null,
            "layout": "IPY_MODEL_c61e52e88fbb4b178544e5312b0cc1e7",
            "placeholder": "​",
            "style": "IPY_MODEL_220d2de2d2f14c4dba2ee91894dcca01",
            "value": "tokenizer.json: 100%"
          }
        },
        "f29df09e91264a19a6d8262641b15732": {
          "model_module": "@jupyter-widgets/base",
          "model_module_version": "1.2.0",
          "model_name": "LayoutModel",
          "state": {
            "_model_module": "@jupyter-widgets/base",
            "_model_module_version": "1.2.0",
            "_model_name": "LayoutModel",
            "_view_count": null,
            "_view_module": "@jupyter-widgets/base",
            "_view_module_version": "1.2.0",
            "_view_name": "LayoutView",
            "align_content": null,
            "align_items": null,
            "align_self": null,
            "border": null,
            "bottom": null,
            "display": null,
            "flex": null,
            "flex_flow": null,
            "grid_area": null,
            "grid_auto_columns": null,
            "grid_auto_flow": null,
            "grid_auto_rows": null,
            "grid_column": null,
            "grid_gap": null,
            "grid_row": null,
            "grid_template_areas": null,
            "grid_template_columns": null,
            "grid_template_rows": null,
            "height": null,
            "justify_content": null,
            "justify_items": null,
            "left": null,
            "margin": null,
            "max_height": null,
            "max_width": null,
            "min_height": null,
            "min_width": null,
            "object_fit": null,
            "object_position": null,
            "order": null,
            "overflow": null,
            "overflow_x": null,
            "overflow_y": null,
            "padding": null,
            "right": null,
            "top": null,
            "visibility": null,
            "width": null
          }
        },
        "fa22630ab2fe4c57adee342695cbb1ac": {
          "model_module": "@jupyter-widgets/controls",
          "model_module_version": "1.5.0",
          "model_name": "HTMLModel",
          "state": {
            "_dom_classes": [],
            "_model_module": "@jupyter-widgets/controls",
            "_model_module_version": "1.5.0",
            "_model_name": "HTMLModel",
            "_view_count": null,
            "_view_module": "@jupyter-widgets/controls",
            "_view_module_version": "1.5.0",
            "_view_name": "HTMLView",
            "description": "",
            "description_tooltip": null,
            "layout": "IPY_MODEL_7fe3c42292024e4b9cf1e2ba0c76af4e",
            "placeholder": "​",
            "style": "IPY_MODEL_abb7b959cebb435c9f13d16354ebb9e2",
            "value": "vocab.txt: 100%"
          }
        }
      }
    }
  },
  "nbformat": 4,
  "nbformat_minor": 5
}
